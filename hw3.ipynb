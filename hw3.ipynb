{
 "cells": [
  {
   "attachments": {},
   "cell_type": "markdown",
   "id": "c2a4c72e-a9a2-4694-9f39-78ae47102bb4",
   "metadata": {},
   "source": [
    "# HDP zemí Evropy #"
   ]
  },
  {
   "cell_type": "code",
   "execution_count": 1,
   "id": "5e07bd2d-d2f9-4d41-8592-07d4cc5ff2d3",
   "metadata": {
    "vscode": {
     "languageId": "r"
    }
   },
   "outputs": [
    {
     "name": "stderr",
     "output_type": "stream",
     "text": [
      "\n",
      "Attaching package: 'olsrr'\n",
      "\n",
      "\n",
      "The following object is masked from 'package:datasets':\n",
      "\n",
      "    rivers\n",
      "\n",
      "\n",
      "Loading required package: kableExtra\n",
      "\n",
      "corrplot 0.92 loaded\n",
      "\n",
      "\n",
      "Attaching package: 'e1071'\n",
      "\n",
      "\n",
      "The following objects are masked from 'package:moments':\n",
      "\n",
      "    kurtosis, moment, skewness\n",
      "\n",
      "\n",
      "Loading required package: sm\n",
      "\n",
      "Package 'sm', version 2.2-5.7: type help(sm) for summary information\n",
      "\n",
      "Loading required package: zoo\n",
      "\n",
      "\n",
      "Attaching package: 'zoo'\n",
      "\n",
      "\n",
      "The following objects are masked from 'package:base':\n",
      "\n",
      "    as.Date, as.Date.numeric\n",
      "\n",
      "\n",
      "-- \u001b[1mAttaching core tidyverse packages\u001b[22m ---------------------------------------------------------------- tidyverse 2.0.0 --\n",
      "\u001b[32mv\u001b[39m \u001b[34mdplyr    \u001b[39m 1.1.0     \u001b[32mv\u001b[39m \u001b[34mreadr    \u001b[39m 2.1.4\n",
      "\u001b[32mv\u001b[39m \u001b[34mforcats  \u001b[39m 1.0.0     \u001b[32mv\u001b[39m \u001b[34mstringr  \u001b[39m 1.5.0\n",
      "\u001b[32mv\u001b[39m \u001b[34mlubridate\u001b[39m 1.9.2     \u001b[32mv\u001b[39m \u001b[34mtibble   \u001b[39m 3.1.8\n",
      "\u001b[32mv\u001b[39m \u001b[34mpurrr    \u001b[39m 1.0.1     \u001b[32mv\u001b[39m \u001b[34mtidyr    \u001b[39m 1.3.0\n",
      "-- \u001b[1mConflicts\u001b[22m ---------------------------------------------------------------------------------- tidyverse_conflicts() --\n",
      "\u001b[31mx\u001b[39m \u001b[34mdplyr\u001b[39m::\u001b[32mfilter()\u001b[39m     masks \u001b[34mstats\u001b[39m::filter()\n",
      "\u001b[31mx\u001b[39m \u001b[34mdplyr\u001b[39m::\u001b[32mgroup_rows()\u001b[39m masks \u001b[34mkableExtra\u001b[39m::group_rows()\n",
      "\u001b[31mx\u001b[39m \u001b[34mdplyr\u001b[39m::\u001b[32mlag()\u001b[39m        masks \u001b[34mstats\u001b[39m::lag()\n",
      "\u001b[31mx\u001b[39m \u001b[34mlubridate\u001b[39m::\u001b[32mstamp()\u001b[39m  masks \u001b[34mcowplot\u001b[39m::stamp()\n",
      "\u001b[36mi\u001b[39m Use the conflicted package (\u001b[3m\u001b[34m<http://conflicted.r-lib.org/>\u001b[39m\u001b[23m) to force all conflicts to become errors\n",
      "Loading required package: carData\n",
      "\n",
      "\n",
      "Attaching package: 'car'\n",
      "\n",
      "\n",
      "The following object is masked from 'package:dplyr':\n",
      "\n",
      "    recode\n",
      "\n",
      "\n",
      "The following object is masked from 'package:purrr':\n",
      "\n",
      "    some\n",
      "\n",
      "\n",
      "Loading required package: Matrix\n",
      "\n",
      "\n",
      "Attaching package: 'Matrix'\n",
      "\n",
      "\n",
      "The following objects are masked from 'package:tidyr':\n",
      "\n",
      "    expand, pack, unpack\n",
      "\n",
      "\n",
      "Loaded glmnet 4.1-7\n",
      "\n"
     ]
    }
   ],
   "source": [
    ".libPaths('C:/Users/jkral/Desktop/skola/BI-PRS/libs') # change if needed\n",
    "library(performance)\n",
    "library(ggplot2)\n",
    "library(olsrr)\n",
    "library(moments)\n",
    "library(cowplot)\n",
    "library(vtable)\n",
    "library(corrplot)\n",
    "library(e1071)  \n",
    "library(vioplot)\n",
    "library(see)\n",
    "library(tidyverse)\n",
    "library(car)\n",
    "library(glmnet)\n",
    "library(lmtest)\n",
    "library(eurostat)\n",
    "\n",
    "options(width=160, repr.plot.width=11, repr.plot.height=7)"
   ]
  },
  {
   "attachments": {},
   "cell_type": "markdown",
   "id": "f69c331f",
   "metadata": {},
   "source": [
    "## Základní analýza dat"
   ]
  },
  {
   "attachments": {},
   "cell_type": "markdown",
   "id": "cf340d0c",
   "metadata": {},
   "source": [
    "Načteme potřebná data z eurostatu a podíváme se na pár řádků z datasetu. Pokud jsou v datasetu nějaké *NA* hodnoty, odstraníme je."
   ]
  },
  {
   "cell_type": "code",
   "execution_count": 2,
   "id": "d2e0e960-6e0e-43f8-bc83-e3c4e9f0c1c4",
   "metadata": {
    "vscode": {
     "languageId": "r"
    }
   },
   "outputs": [
    {
     "data": {
      "text/html": [
       "<table class=\"dataframe\">\n",
       "<caption>A tibble: 6 × 5</caption>\n",
       "<thead>\n",
       "\t<tr><th scope=col>unit</th><th scope=col>na_item</th><th scope=col>geo</th><th scope=col>time</th><th scope=col>values</th></tr>\n",
       "\t<tr><th scope=col>&lt;chr&gt;</th><th scope=col>&lt;chr&gt;</th><th scope=col>&lt;chr&gt;</th><th scope=col>&lt;date&gt;</th><th scope=col>&lt;dbl&gt;</th></tr>\n",
       "</thead>\n",
       "<tbody>\n",
       "\t<tr><td>CLV05_MEUR</td><td>B1G</td><td>AT</td><td>2022-01-01</td><td>283441.0</td></tr>\n",
       "\t<tr><td>CLV05_MEUR</td><td>B1G</td><td>BA</td><td>2022-01-01</td><td> 11427.6</td></tr>\n",
       "\t<tr><td>CLV05_MEUR</td><td>B1G</td><td>BE</td><td>2022-01-01</td><td>355710.6</td></tr>\n",
       "\t<tr><td>CLV05_MEUR</td><td>B1G</td><td>BG</td><td>2022-01-01</td><td> 31876.7</td></tr>\n",
       "\t<tr><td>CLV05_MEUR</td><td>B1G</td><td>CH</td><td>2022-01-01</td><td>445107.4</td></tr>\n",
       "\t<tr><td>CLV05_MEUR</td><td>B1G</td><td>CY</td><td>2022-01-01</td><td> 18712.1</td></tr>\n",
       "</tbody>\n",
       "</table>\n"
      ],
      "text/latex": [
       "A tibble: 6 × 5\n",
       "\\begin{tabular}{lllll}\n",
       " unit & na\\_item & geo & time & values\\\\\n",
       " <chr> & <chr> & <chr> & <date> & <dbl>\\\\\n",
       "\\hline\n",
       "\t CLV05\\_MEUR & B1G & AT & 2022-01-01 & 283441.0\\\\\n",
       "\t CLV05\\_MEUR & B1G & BA & 2022-01-01 &  11427.6\\\\\n",
       "\t CLV05\\_MEUR & B1G & BE & 2022-01-01 & 355710.6\\\\\n",
       "\t CLV05\\_MEUR & B1G & BG & 2022-01-01 &  31876.7\\\\\n",
       "\t CLV05\\_MEUR & B1G & CH & 2022-01-01 & 445107.4\\\\\n",
       "\t CLV05\\_MEUR & B1G & CY & 2022-01-01 &  18712.1\\\\\n",
       "\\end{tabular}\n"
      ],
      "text/markdown": [
       "\n",
       "A tibble: 6 × 5\n",
       "\n",
       "| unit &lt;chr&gt; | na_item &lt;chr&gt; | geo &lt;chr&gt; | time &lt;date&gt; | values &lt;dbl&gt; |\n",
       "|---|---|---|---|---|\n",
       "| CLV05_MEUR | B1G | AT | 2022-01-01 | 283441.0 |\n",
       "| CLV05_MEUR | B1G | BA | 2022-01-01 |  11427.6 |\n",
       "| CLV05_MEUR | B1G | BE | 2022-01-01 | 355710.6 |\n",
       "| CLV05_MEUR | B1G | BG | 2022-01-01 |  31876.7 |\n",
       "| CLV05_MEUR | B1G | CH | 2022-01-01 | 445107.4 |\n",
       "| CLV05_MEUR | B1G | CY | 2022-01-01 |  18712.1 |\n",
       "\n"
      ],
      "text/plain": [
       "  unit       na_item geo time       values  \n",
       "1 CLV05_MEUR B1G     AT  2022-01-01 283441.0\n",
       "2 CLV05_MEUR B1G     BA  2022-01-01  11427.6\n",
       "3 CLV05_MEUR B1G     BE  2022-01-01 355710.6\n",
       "4 CLV05_MEUR B1G     BG  2022-01-01  31876.7\n",
       "5 CLV05_MEUR B1G     CH  2022-01-01 445107.4\n",
       "6 CLV05_MEUR B1G     CY  2022-01-01  18712.1"
      ]
     },
     "metadata": {},
     "output_type": "display_data"
    }
   ],
   "source": [
    "df <- get_eurostat('nama_10_gdp')\n",
    "df <- na.omit(df)\n",
    "head(df)"
   ]
  },
  {
   "attachments": {},
   "cell_type": "markdown",
   "id": "df379a88",
   "metadata": {},
   "source": [
    "Vytáhneme si jen údaje pro náš rok a zahodíme všechny hodnoty, co se netýjkají jen jednotlivých států."
   ]
  },
  {
   "cell_type": "code",
   "execution_count": 3,
   "id": "628b9c0d-44bf-4f98-b866-4487ea2e7b3b",
   "metadata": {
    "vscode": {
     "languageId": "r"
    }
   },
   "outputs": [
    {
     "data": {
      "text/html": [
       "<table class=\"dataframe\">\n",
       "<caption>A tibble: 6 × 5</caption>\n",
       "<thead>\n",
       "\t<tr><th scope=col>unit</th><th scope=col>na_item</th><th scope=col>geo</th><th scope=col>time</th><th scope=col>values</th></tr>\n",
       "\t<tr><th scope=col>&lt;chr&gt;</th><th scope=col>&lt;chr&gt;</th><th scope=col>&lt;chr&gt;</th><th scope=col>&lt;chr&gt;</th><th scope=col>&lt;dbl&gt;</th></tr>\n",
       "</thead>\n",
       "<tbody>\n",
       "\t<tr><td>CP_MEUR</td><td>B1GQ</td><td>AL</td><td>2018</td><td> 12828.1</td></tr>\n",
       "\t<tr><td>CP_MEUR</td><td>B1GQ</td><td>AT</td><td>2018</td><td>385274.1</td></tr>\n",
       "\t<tr><td>CP_MEUR</td><td>B1GQ</td><td>BA</td><td>2018</td><td> 17354.2</td></tr>\n",
       "\t<tr><td>CP_MEUR</td><td>B1GQ</td><td>BE</td><td>2018</td><td>460050.8</td></tr>\n",
       "\t<tr><td>CP_MEUR</td><td>B1GQ</td><td>BG</td><td>2018</td><td> 56224.8</td></tr>\n",
       "\t<tr><td>CP_MEUR</td><td>B1GQ</td><td>CH</td><td>2018</td><td>614304.4</td></tr>\n",
       "</tbody>\n",
       "</table>\n"
      ],
      "text/latex": [
       "A tibble: 6 × 5\n",
       "\\begin{tabular}{lllll}\n",
       " unit & na\\_item & geo & time & values\\\\\n",
       " <chr> & <chr> & <chr> & <chr> & <dbl>\\\\\n",
       "\\hline\n",
       "\t CP\\_MEUR & B1GQ & AL & 2018 &  12828.1\\\\\n",
       "\t CP\\_MEUR & B1GQ & AT & 2018 & 385274.1\\\\\n",
       "\t CP\\_MEUR & B1GQ & BA & 2018 &  17354.2\\\\\n",
       "\t CP\\_MEUR & B1GQ & BE & 2018 & 460050.8\\\\\n",
       "\t CP\\_MEUR & B1GQ & BG & 2018 &  56224.8\\\\\n",
       "\t CP\\_MEUR & B1GQ & CH & 2018 & 614304.4\\\\\n",
       "\\end{tabular}\n"
      ],
      "text/markdown": [
       "\n",
       "A tibble: 6 × 5\n",
       "\n",
       "| unit &lt;chr&gt; | na_item &lt;chr&gt; | geo &lt;chr&gt; | time &lt;chr&gt; | values &lt;dbl&gt; |\n",
       "|---|---|---|---|---|\n",
       "| CP_MEUR | B1GQ | AL | 2018 |  12828.1 |\n",
       "| CP_MEUR | B1GQ | AT | 2018 | 385274.1 |\n",
       "| CP_MEUR | B1GQ | BA | 2018 |  17354.2 |\n",
       "| CP_MEUR | B1GQ | BE | 2018 | 460050.8 |\n",
       "| CP_MEUR | B1GQ | BG | 2018 |  56224.8 |\n",
       "| CP_MEUR | B1GQ | CH | 2018 | 614304.4 |\n",
       "\n"
      ],
      "text/plain": [
       "  unit    na_item geo time values  \n",
       "1 CP_MEUR B1GQ    AL  2018  12828.1\n",
       "2 CP_MEUR B1GQ    AT  2018 385274.1\n",
       "3 CP_MEUR B1GQ    BA  2018  17354.2\n",
       "4 CP_MEUR B1GQ    BE  2018 460050.8\n",
       "5 CP_MEUR B1GQ    BG  2018  56224.8\n",
       "6 CP_MEUR B1GQ    CH  2018 614304.4"
      ]
     },
     "metadata": {},
     "output_type": "display_data"
    }
   ],
   "source": [
    "df <- df[df$na_item == \"B1GQ\",]\n",
    "df <- df[df$unit == \"CP_MEUR\",]\n",
    "df$time <- format(df$time, '%Y')\n",
    "df <- df[df$time == \"2018\",]\n",
    "df <- subset(df, nchar(geo) == 2)\n",
    "df <- df[df$geo != \"EA\",]\n",
    "colnames(df)[colnames(df) == \"values\"] =\"HDP\"\n",
    "head(df)"
   ]
  },
  {
   "attachments": {},
   "cell_type": "markdown",
   "id": "87629234",
   "metadata": {},
   "source": [
    "Zůstalo nám 39 států. Hodnoty HDP jsou reprezentovány v milionech €. Již při pohledu na summary je vidět, že mezi státy je obrovský roudíl. Minimum 4 663 milionů a maximum 3 365 450 milionů. Nevyváženost je vidět i na rozdílu mezi mediánem a průměrem, který je přibližně 2.5x vyšší."
   ]
  },
  {
   "cell_type": "code",
   "execution_count": 4,
   "id": "8ae6e5ed-5fb2-44de-94aa-d5f75be4e03b",
   "metadata": {
    "vscode": {
     "languageId": "r"
    }
   },
   "outputs": [
    {
     "data": {
      "text/plain": [
       "     unit             na_item              geo                time               values       \n",
       " Length:39          Length:39          Length:39          Length:39          Min.   :   4663  \n",
       " Class :character   Class :character   Class :character   Class :character   1st Qu.:  27543  \n",
       " Mode  :character   Mode  :character   Mode  :character   Mode  :character   Median : 179558  \n",
       "                                                                             Mean   : 454431  \n",
       "                                                                             3rd Qu.: 465362  \n",
       "                                                                             Max.   :3365450  "
      ]
     },
     "metadata": {},
     "output_type": "display_data"
    }
   ],
   "source": [
    "summary(df)"
   ]
  },
  {
   "attachments": {},
   "cell_type": "markdown",
   "id": "a4a81c51",
   "metadata": {},
   "source": [
    "Na grafu jsou dobře vidět odlehlé hodnoty 5 nebjbohatších států. Jedná se popořadě o Německo, Velkou Británii, Francii, Itálii a Španělsko."
   ]
  },
  {
   "cell_type": "code",
   "execution_count": 5,
   "id": "55967f7a-be2d-4170-8a04-22c8c6ee8637",
   "metadata": {
    "vscode": {
     "languageId": "r"
    }
   },
   "outputs": [
    {
     "data": {
      "image/png": "[encoded data removed]",
      "text/plain": [
       "plot without title"
      ]
     },
     "metadata": {
      "image/png": {
       "height": 420,
       "width": 660
      }
     },
     "output_type": "display_data"
    }
   ],
   "source": [
    "ggplot(df, aes(x=geo, y=HDP)) +\n",
    "    geom_point() + \n",
    "    scale_y_continuous(labels=scales::label_number(scale = 1))"
   ]
  },
  {
   "attachments": {},
   "cell_type": "markdown",
   "id": "cd3be78f",
   "metadata": {},
   "source": [
    "Graf si uspořádáme, aby rozdíly byly lépe vidět. Hodnoty nápadně připomínají exponenciálu."
   ]
  },
  {
   "cell_type": "code",
   "execution_count": null,
   "id": "e67025f9",
   "metadata": {
    "vscode": {
     "languageId": "r"
    }
   },
   "outputs": [
    {
     "data": {
      "image/png": "[encoded data removed]",
      "text/plain": [
       "plot without title"
      ]
     },
     "metadata": {},
     "output_type": "display_data"
    }
   ],
   "source": [
    "ggplot(df, aes(reorder(geo, HDP), HDP)) +\n",
    "    geom_point() + \n",
    "    scale_y_continuous(labels=scales::label_number(scale = 1))"
   ]
  },
  {
   "attachments": {},
   "cell_type": "markdown",
   "id": "53f806ab",
   "metadata": {},
   "source": [
    "Z grafu je patrné, že se nejspíše nebude jednat o normální rozdělení, ale svoji domněnku potvrdíme ještě testem."
   ]
  },
  {
   "cell_type": "code",
   "execution_count": 6,
   "id": "15a5e014-4ab4-4881-b706-d0f4163c4882",
   "metadata": {
    "vscode": {
     "languageId": "r"
    }
   },
   "outputs": [
    {
     "data": {
      "text/plain": [
       "\n",
       "\tShapiro-Wilk normality test\n",
       "\n",
       "data:  df$values\n",
       "W = 0.61977, p-value = 7.863e-09\n"
      ]
     },
     "metadata": {},
     "output_type": "display_data"
    }
   ],
   "source": [
    "shapiro.test(df$HDP)"
   ]
  },
  {
   "attachments": {},
   "cell_type": "markdown",
   "id": "e3acf73d-7cb5-45b9-bad8-58f2eb5e44e0",
   "metadata": {},
   "source": [
    "Podezření se nám potvrdilo a zamítáme nulovou hypotézu, že se jedná o normální rozdělení."
   ]
  },
  {
   "cell_type": "code",
   "execution_count": 7,
   "id": "7ba2135a-93a3-4cae-ade5-8e3debf359cc",
   "metadata": {
    "vscode": {
     "languageId": "r"
    }
   },
   "outputs": [
    {
     "data": {
      "image/png": "[encoded data removed]",
      "text/plain": [
       "plot without title"
      ]
     },
     "metadata": {
      "image/png": {
       "height": 420,
       "width": 660
      }
     },
     "output_type": "display_data"
    }
   ],
   "source": []
  },
  {
   "attachments": {},
   "cell_type": "markdown",
   "id": "ef4d6f87",
   "metadata": {},
   "source": [
    "Jelikož je dataset v absolutních číslech, tak největší vliv bude mít počet obyvatel. Dále by velký vliv mohly mít data typu průměrný plat, průměrné dosažené vzdělání, členství v evropské unii. Velký vliv také bude mít export a tedy i přístup k moři."
   ]
  },
  {
   "attachments": {},
   "cell_type": "markdown",
   "id": "ec7b5729-75ec-47d2-9f50-452c5bffa9fb",
   "metadata": {},
   "source": [
    "Diskutujeme o tom co je important - počet obyvatel, použití €, přístup k moři, nějaká zemědělská věc co už jsem zapomněl co je "
   ]
  },
  {
   "attachments": {},
   "cell_type": "markdown",
   "id": "16699dbc-ea4a-4a03-978f-c51e53b89081",
   "metadata": {},
   "source": [
    "## Úloha 2 ##"
   ]
  },
  {
   "cell_type": "code",
   "execution_count": 8,
   "id": "c2a75aa9-2525-4233-aa31-478cb8235604",
   "metadata": {
    "vscode": {
     "languageId": "r"
    }
   },
   "outputs": [
    {
     "data": {
      "text/html": [
       "<table class=\"dataframe\">\n",
       "<caption>A tibble: 6 × 6</caption>\n",
       "<thead>\n",
       "\t<tr><th scope=col>unit</th><th scope=col>age</th><th scope=col>sex</th><th scope=col>geo</th><th scope=col>time</th><th scope=col>values</th></tr>\n",
       "\t<tr><th scope=col>&lt;chr&gt;</th><th scope=col>&lt;chr&gt;</th><th scope=col>&lt;chr&gt;</th><th scope=col>&lt;chr&gt;</th><th scope=col>&lt;chr&gt;</th><th scope=col>&lt;dbl&gt;</th></tr>\n",
       "</thead>\n",
       "<tbody>\n",
       "\t<tr><td>NR</td><td>TOTAL</td><td>T</td><td>AL</td><td>2018</td><td> 2870324</td></tr>\n",
       "\t<tr><td>NR</td><td>TOTAL</td><td>T</td><td>AM</td><td>2018</td><td> 2972732</td></tr>\n",
       "\t<tr><td>NR</td><td>TOTAL</td><td>T</td><td>AT</td><td>2018</td><td> 8822267</td></tr>\n",
       "\t<tr><td>NR</td><td>TOTAL</td><td>T</td><td>AZ</td><td>2018</td><td> 9898085</td></tr>\n",
       "\t<tr><td>NR</td><td>TOTAL</td><td>T</td><td>BE</td><td>2018</td><td>11398589</td></tr>\n",
       "\t<tr><td>NR</td><td>TOTAL</td><td>T</td><td>BG</td><td>2018</td><td> 7050034</td></tr>\n",
       "</tbody>\n",
       "</table>\n"
      ],
      "text/latex": [
       "A tibble: 6 × 6\n",
       "\\begin{tabular}{llllll}\n",
       " unit & age & sex & geo & time & values\\\\\n",
       " <chr> & <chr> & <chr> & <chr> & <chr> & <dbl>\\\\\n",
       "\\hline\n",
       "\t NR & TOTAL & T & AL & 2018 &  2870324\\\\\n",
       "\t NR & TOTAL & T & AM & 2018 &  2972732\\\\\n",
       "\t NR & TOTAL & T & AT & 2018 &  8822267\\\\\n",
       "\t NR & TOTAL & T & AZ & 2018 &  9898085\\\\\n",
       "\t NR & TOTAL & T & BE & 2018 & 11398589\\\\\n",
       "\t NR & TOTAL & T & BG & 2018 &  7050034\\\\\n",
       "\\end{tabular}\n"
      ],
      "text/markdown": [
       "\n",
       "A tibble: 6 × 6\n",
       "\n",
       "| unit &lt;chr&gt; | age &lt;chr&gt; | sex &lt;chr&gt; | geo &lt;chr&gt; | time &lt;chr&gt; | values &lt;dbl&gt; |\n",
       "|---|---|---|---|---|---|\n",
       "| NR | TOTAL | T | AL | 2018 |  2870324 |\n",
       "| NR | TOTAL | T | AM | 2018 |  2972732 |\n",
       "| NR | TOTAL | T | AT | 2018 |  8822267 |\n",
       "| NR | TOTAL | T | AZ | 2018 |  9898085 |\n",
       "| NR | TOTAL | T | BE | 2018 | 11398589 |\n",
       "| NR | TOTAL | T | BG | 2018 |  7050034 |\n",
       "\n"
      ],
      "text/plain": [
       "  unit age   sex geo time values  \n",
       "1 NR   TOTAL T   AL  2018  2870324\n",
       "2 NR   TOTAL T   AM  2018  2972732\n",
       "3 NR   TOTAL T   AT  2018  8822267\n",
       "4 NR   TOTAL T   AZ  2018  9898085\n",
       "5 NR   TOTAL T   BE  2018 11398589\n",
       "6 NR   TOTAL T   BG  2018  7050034"
      ]
     },
     "metadata": {},
     "output_type": "display_data"
    }
   ],
   "source": [
    "data <- get_eurostat(id = \"demo_pjan\")\n",
    "data <- data[data$age == \"TOTAL\",]\n",
    "data$time <- format(data$time, '%Y')\n",
    "data <- data[data$time == \"2018\",]\n",
    "data <- subset(data, nchar(geo) == 2)\n",
    "data <- data[data$geo != \"EA\",]\n",
    "data <- data[data$sex == \"T\",]\n",
    "head(data)"
   ]
  },
  {
   "cell_type": "code",
   "execution_count": 9,
   "id": "aebe8556-7719-4ea6-b1a3-483d545ae07d",
   "metadata": {
    "vscode": {
     "languageId": "r"
    }
   },
   "outputs": [
    {
     "data": {
      "text/plain": [
       "     unit               age                sex                geo                time               values        \n",
       " Length:44          Length:44          Length:44          Length:44          Length:44          Min.   :   34453  \n",
       " Class :character   Class :character   Class :character   Class :character   Class :character   1st Qu.: 2073196  \n",
       " Mode  :character   Mode  :character   Mode  :character   Mode  :character   Mode  :character   Median : 6391317  \n",
       "                                                                                                Mean   :15685691  \n",
       "                                                                                                3rd Qu.:10905521  \n",
       "                                                                                                Max.   :82792351  "
      ]
     },
     "metadata": {},
     "output_type": "display_data"
    }
   ],
   "source": [
    "summary(data)"
   ]
  },
  {
   "cell_type": "code",
   "execution_count": 10,
   "id": "f0e2efd4-26e3-4563-8ae3-76d850b82929",
   "metadata": {
    "vscode": {
     "languageId": "r"
    }
   },
   "outputs": [
    {
     "data": {
      "text/html": [
       "<table class=\"dataframe\">\n",
       "<caption>A tibble: 6 × 2</caption>\n",
       "<thead>\n",
       "\t<tr><th scope=col>geo</th><th scope=col>population</th></tr>\n",
       "\t<tr><th scope=col>&lt;chr&gt;</th><th scope=col>&lt;dbl&gt;</th></tr>\n",
       "</thead>\n",
       "<tbody>\n",
       "\t<tr><td>AL</td><td> 2870324</td></tr>\n",
       "\t<tr><td>AM</td><td> 2972732</td></tr>\n",
       "\t<tr><td>AT</td><td> 8822267</td></tr>\n",
       "\t<tr><td>AZ</td><td> 9898085</td></tr>\n",
       "\t<tr><td>BE</td><td>11398589</td></tr>\n",
       "\t<tr><td>BG</td><td> 7050034</td></tr>\n",
       "</tbody>\n",
       "</table>\n"
      ],
      "text/latex": [
       "A tibble: 6 × 2\n",
       "\\begin{tabular}{ll}\n",
       " geo & population\\\\\n",
       " <chr> & <dbl>\\\\\n",
       "\\hline\n",
       "\t AL &  2870324\\\\\n",
       "\t AM &  2972732\\\\\n",
       "\t AT &  8822267\\\\\n",
       "\t AZ &  9898085\\\\\n",
       "\t BE & 11398589\\\\\n",
       "\t BG &  7050034\\\\\n",
       "\\end{tabular}\n"
      ],
      "text/markdown": [
       "\n",
       "A tibble: 6 × 2\n",
       "\n",
       "| geo &lt;chr&gt; | population &lt;dbl&gt; |\n",
       "|---|---|\n",
       "| AL |  2870324 |\n",
       "| AM |  2972732 |\n",
       "| AT |  8822267 |\n",
       "| AZ |  9898085 |\n",
       "| BE | 11398589 |\n",
       "| BG |  7050034 |\n",
       "\n"
      ],
      "text/plain": [
       "  geo population\n",
       "1 AL   2870324  \n",
       "2 AM   2972732  \n",
       "3 AT   8822267  \n",
       "4 AZ   9898085  \n",
       "5 BE  11398589  \n",
       "6 BG   7050034  "
      ]
     },
     "metadata": {},
     "output_type": "display_data"
    }
   ],
   "source": [
    "data$unit <- NULL\n",
    "data$age <- NULL\n",
    "data$sex <- NULL\n",
    "data$time <- NULL\n",
    "colnames(data)[colnames(data) == \"values\"] =\"population\"\n",
    "head(data)"
   ]
  },
  {
   "cell_type": "code",
   "execution_count": 11,
   "id": "7f5f9ec0-10af-4b69-9ff2-c9629050dcd1",
   "metadata": {
    "vscode": {
     "languageId": "r"
    }
   },
   "outputs": [],
   "source": [
    "df$na_item <- NULL\n",
    "df$unit <- NULL\n",
    "df$time <- NULL\n",
    "df <- merge(df, data, by = \"geo\", all.x = TRUE)"
   ]
  },
  {
   "cell_type": "code",
   "execution_count": 12,
   "id": "11f20d74-7b21-4a74-bcc3-d7872fbf402b",
   "metadata": {
    "vscode": {
     "languageId": "r"
    }
   },
   "outputs": [
    {
     "data": {
      "text/html": [
       "<table class=\"dataframe\">\n",
       "<caption>A tibble: 4 × 5</caption>\n",
       "<thead>\n",
       "\t<tr><th scope=col>unit</th><th scope=col>age</th><th scope=col>geo</th><th scope=col>time</th><th scope=col>values</th></tr>\n",
       "\t<tr><th scope=col>&lt;chr&gt;</th><th scope=col>&lt;chr&gt;</th><th scope=col>&lt;chr&gt;</th><th scope=col>&lt;chr&gt;</th><th scope=col>&lt;dbl&gt;</th></tr>\n",
       "</thead>\n",
       "<tbody>\n",
       "\t<tr><td>PC</td><td>Y30-34</td><td>AM</td><td>2018</td><td>49.3</td></tr>\n",
       "\t<tr><td>PC</td><td>Y30-34</td><td>GE</td><td>2018</td><td>44.1</td></tr>\n",
       "\t<tr><td>PC</td><td>Y30-34</td><td>MD</td><td>2018</td><td>30.6</td></tr>\n",
       "\t<tr><td>PC</td><td>Y30-34</td><td>UA</td><td>2018</td><td>58.5</td></tr>\n",
       "</tbody>\n",
       "</table>\n"
      ],
      "text/latex": [
       "A tibble: 4 × 5\n",
       "\\begin{tabular}{lllll}\n",
       " unit & age & geo & time & values\\\\\n",
       " <chr> & <chr> & <chr> & <chr> & <dbl>\\\\\n",
       "\\hline\n",
       "\t PC & Y30-34 & AM & 2018 & 49.3\\\\\n",
       "\t PC & Y30-34 & GE & 2018 & 44.1\\\\\n",
       "\t PC & Y30-34 & MD & 2018 & 30.6\\\\\n",
       "\t PC & Y30-34 & UA & 2018 & 58.5\\\\\n",
       "\\end{tabular}\n"
      ],
      "text/markdown": [
       "\n",
       "A tibble: 4 × 5\n",
       "\n",
       "| unit &lt;chr&gt; | age &lt;chr&gt; | geo &lt;chr&gt; | time &lt;chr&gt; | values &lt;dbl&gt; |\n",
       "|---|---|---|---|---|\n",
       "| PC | Y30-34 | AM | 2018 | 49.3 |\n",
       "| PC | Y30-34 | GE | 2018 | 44.1 |\n",
       "| PC | Y30-34 | MD | 2018 | 30.6 |\n",
       "| PC | Y30-34 | UA | 2018 | 58.5 |\n",
       "\n"
      ],
      "text/plain": [
       "  unit age    geo time values\n",
       "1 PC   Y30-34 AM  2018 49.3  \n",
       "2 PC   Y30-34 GE  2018 44.1  \n",
       "3 PC   Y30-34 MD  2018 30.6  \n",
       "4 PC   Y30-34 UA  2018 58.5  "
      ]
     },
     "metadata": {},
     "output_type": "display_data"
    }
   ],
   "source": [
    "data <- get_eurostat(id=\"enpe_edat_lfse_03\")\n",
    "data$time <- format(data$time, '%Y')\n",
    "data <- data[data$time == \"2018\",]\n",
    "data <- subset(data, nchar(geo) == 2)\n",
    "data <- data[data$geo != \"EA\",]\n",
    "data"
   ]
  },
  {
   "cell_type": "code",
   "execution_count": 13,
   "id": "79ee7ef5-9459-493b-af20-45a30bf5fa30",
   "metadata": {
    "vscode": {
     "languageId": "r"
    }
   },
   "outputs": [],
   "source": [
    "euro_dataset <- data.frame(\n",
    "  geo = c(\"EL\", \"AD\", \"AL\", \"AT\", \"BA\", \"BE\", \"BG\", \"BY\", \"CH\", \"CY\", \"CZ\", \"DE\", \"DK\",\n",
    "              \"EE\", \"ES\", \"FI\", \"FO\", \"FR\", \"GG\", \"GI\", \"GR\", \"HR\", \"HU\", \"IE\",\n",
    "              \"IM\", \"IS\", \"IT\", \"JE\", \"LI\", \"LT\", \"LU\", \"LV\", \"MC\", \"MD\", \"ME\", \"MK\",\n",
    "              \"MT\", \"NL\", \"NO\", \"PL\", \"PT\", \"RO\", \"RS\", \"RU\", \"SE\", \"SI\", \"SJ\", \"SK\",\n",
    "              \"SM\", \"UA\", \"VA\", \"TR\", \"XK\", \"UK\"),\n",
    "  uses_euro = c(TRUE, FALSE, FALSE, TRUE, FALSE, TRUE, FALSE, FALSE, FALSE, TRUE, FALSE, TRUE,\n",
    "                FALSE, TRUE, TRUE, TRUE, FALSE, TRUE, FALSE, FALSE, FALSE, TRUE, FALSE,\n",
    "                TRUE, TRUE, FALSE, FALSE, TRUE, FALSE, FALSE, TRUE, TRUE, FALSE, TRUE,\n",
    "                TRUE, FALSE, TRUE, FALSE, FALSE, FALSE, FALSE, TRUE, FALSE, FALSE, FALSE,\n",
    "                TRUE, FALSE, TRUE, TRUE, FALSE, TRUE, FALSE, FALSE, FALSE)\n",
    ")"
   ]
  },
  {
   "cell_type": "code",
   "execution_count": 14,
   "id": "21ae58e4-31ad-49ef-9912-f8bdb2ae2abe",
   "metadata": {
    "vscode": {
     "languageId": "r"
    }
   },
   "outputs": [],
   "source": [
    "df <- merge(df, euro_dataset, by = \"geo\", all.x = TRUE)"
   ]
  },
  {
   "cell_type": "code",
   "execution_count": 15,
   "id": "6c376756-5998-4edc-8b6d-fcad377c8fd9",
   "metadata": {
    "vscode": {
     "languageId": "r"
    }
   },
   "outputs": [],
   "source": [
    "geo <- c(\"AD\", \"AL\", \"AT\", \"BA\", \"BE\", \"BG\", \"BY\", \"CH\", \"CY\", \"CZ\", \"DE\", \"DK\",\n",
    "             \"EE\", \"EL\", \"ES\", \"FI\", \"FO\", \"FR\", \"GG\", \"GI\", \"GR\", \"HR\", \"HU\", \"IE\",\n",
    "             \"IM\", \"IS\", \"IT\", \"JE\", \"LI\", \"LT\", \"LU\", \"LV\", \"MC\", \"MD\", \"ME\", \"MK\",\n",
    "             \"MT\", \"NL\", \"NO\", \"PL\", \"PT\", \"RO\", \"RS\", \"RU\", \"SE\", \"SI\", \"SJ\", \"SK\",\n",
    "             \"SM\", \"TR\", \"UA\", \"UK\", \"VA\", \"XK\")\n",
    "has_sea_access <- function(country_code) {\n",
    "  sea_countries <- c(\"AL\", \"BE\", \"BA\", \"HR\", \"CY\", \"DK\", \"EE\", \"FI\", \"FR\", \"DE\", \"EL\", \n",
    "                  \"IS\", \"IE\", \"IT\", \"LV\", \"LT\", \"MT\", \"ME\", \"NL\", \"NO\", \"PL\", \"PT\", \n",
    "                  \"RO\", \"SI\", \"ES\", \"SE\", \"TR\", \"UA\", \"UK\")\n",
    "\n",
    "  country_code %in% sea_countries\n",
    "}\n",
    "\n",
    "# Create the dataset\n",
    "dataset <- data.frame(geo = geo, has_sea_access = sapply(geo, has_sea_access))\n",
    "\n",
    "# Convert logical values to true/false strings\n",
    "dataset$has_sea_access <- ifelse(dataset$has_sea_access, 1, 0)"
   ]
  },
  {
   "cell_type": "code",
   "execution_count": 16,
   "id": "fa61042b-a818-4cd7-934b-644af5f74e48",
   "metadata": {
    "vscode": {
     "languageId": "r"
    }
   },
   "outputs": [],
   "source": [
    "df <- merge(df, dataset, by = \"geo\", all.x = TRUE)"
   ]
  },
  {
   "cell_type": "code",
   "execution_count": 17,
   "id": "78704ad1-c74a-40cc-81b3-dd1a555b23d2",
   "metadata": {
    "vscode": {
     "languageId": "r"
    }
   },
   "outputs": [],
   "source": [
    "data <- get_eurostat(id=\"sdg_02_40\")\n",
    "data$time <- format(data$time, '%Y')\n",
    "data <- data[data$time == \"2018\",]\n",
    "data$unit <- NULL\n",
    "data$crops <- NULL\n",
    "data$agprdmet <- NULL\n",
    "data$time <- NULL\n",
    "colnames(data)[colnames(data) == \"values\"] =\"farm area\""
   ]
  },
  {
   "cell_type": "code",
   "execution_count": 18,
   "id": "b0ae92c0-e758-411c-ae8c-5cd65ea8ac62",
   "metadata": {
    "vscode": {
     "languageId": "r"
    }
   },
   "outputs": [],
   "source": [
    "df <- merge(df, data, by = \"geo\", all.x = TRUE)"
   ]
  },
  {
   "cell_type": "code",
   "execution_count": 19,
   "id": "a9b34f57-9982-4227-84f1-e3f3b0891361",
   "metadata": {
    "vscode": {
     "languageId": "r"
    }
   },
   "outputs": [
    {
     "data": {
      "text/html": [
       "<table class=\"dataframe\">\n",
       "<caption>A data.frame: 39 × 6</caption>\n",
       "<thead>\n",
       "\t<tr><th scope=col>geo</th><th scope=col>values</th><th scope=col>population</th><th scope=col>uses_euro</th><th scope=col>has_sea_access</th><th scope=col>farm area</th></tr>\n",
       "\t<tr><th scope=col>&lt;chr&gt;</th><th scope=col>&lt;dbl&gt;</th><th scope=col>&lt;dbl&gt;</th><th scope=col>&lt;lgl&gt;</th><th scope=col>&lt;dbl&gt;</th><th scope=col>&lt;dbl&gt;</th></tr>\n",
       "</thead>\n",
       "<tbody>\n",
       "\t<tr><td>AL</td><td>  12828.1</td><td> 2870324</td><td>FALSE</td><td>1</td><td>   NA</td></tr>\n",
       "\t<tr><td>AT</td><td> 385274.1</td><td> 8822267</td><td> TRUE</td><td>0</td><td>24.08</td></tr>\n",
       "\t<tr><td>BA</td><td>  17354.2</td><td>      NA</td><td>FALSE</td><td>1</td><td>   NA</td></tr>\n",
       "\t<tr><td>BE</td><td> 460050.8</td><td>11398589</td><td> TRUE</td><td>1</td><td> 6.56</td></tr>\n",
       "\t<tr><td>BG</td><td>  56224.8</td><td> 7050034</td><td>FALSE</td><td>0</td><td> 2.56</td></tr>\n",
       "\t<tr><td>CH</td><td> 614304.4</td><td> 8484130</td><td>FALSE</td><td>0</td><td>15.40</td></tr>\n",
       "\t<tr><td>CY</td><td>  21674.0</td><td>  864236</td><td> TRUE</td><td>1</td><td> 4.55</td></tr>\n",
       "\t<tr><td>CZ</td><td> 210970.5</td><td>10610055</td><td>FALSE</td><td>0</td><td>14.76</td></tr>\n",
       "\t<tr><td>DE</td><td>3365450.0</td><td>82792351</td><td> TRUE</td><td>1</td><td> 7.34</td></tr>\n",
       "\t<tr><td>DK</td><td> 302328.7</td><td> 5781190</td><td>FALSE</td><td>1</td><td> 9.75</td></tr>\n",
       "\t<tr><td>EE</td><td>  25932.2</td><td> 1319133</td><td> TRUE</td><td>1</td><td>20.98</td></tr>\n",
       "\t<tr><td>EL</td><td> 179557.7</td><td>10741165</td><td> TRUE</td><td>1</td><td> 9.32</td></tr>\n",
       "\t<tr><td>ES</td><td>1203859.0</td><td>46658447</td><td> TRUE</td><td>1</td><td> 9.28</td></tr>\n",
       "\t<tr><td>FI</td><td> 233462.0</td><td> 5513130</td><td> TRUE</td><td>1</td><td>13.09</td></tr>\n",
       "\t<tr><td>FR</td><td>2363306.0</td><td>67026224</td><td> TRUE</td><td>1</td><td> 7.01</td></tr>\n",
       "\t<tr><td>HR</td><td>  52747.2</td><td> 4105493</td><td> TRUE</td><td>1</td><td> 6.94</td></tr>\n",
       "\t<tr><td>HU</td><td> 136055.4</td><td> 9778371</td><td>FALSE</td><td>0</td><td> 3.92</td></tr>\n",
       "\t<tr><td>IE</td><td> 326631.3</td><td> 4830392</td><td> TRUE</td><td>1</td><td> 1.65</td></tr>\n",
       "\t<tr><td>IS</td><td>  22238.3</td><td>  348450</td><td>FALSE</td><td>1</td><td>   NA</td></tr>\n",
       "\t<tr><td>IT</td><td>1771391.2</td><td>60483973</td><td>FALSE</td><td>1</td><td>15.17</td></tr>\n",
       "\t<tr><td>LI</td><td>   5666.3</td><td>   38114</td><td>FALSE</td><td>0</td><td>   NA</td></tr>\n",
       "\t<tr><td>LT</td><td>  45515.2</td><td> 2808901</td><td>FALSE</td><td>1</td><td> 8.13</td></tr>\n",
       "\t<tr><td>LU</td><td>  60121.2</td><td>  602005</td><td> TRUE</td><td>0</td><td> 4.39</td></tr>\n",
       "\t<tr><td>LV</td><td>  29153.6</td><td> 1934379</td><td> TRUE</td><td>1</td><td>14.47</td></tr>\n",
       "\t<tr><td>ME</td><td>   4663.1</td><td>  622359</td><td> TRUE</td><td>1</td><td> 1.73</td></tr>\n",
       "\t<tr><td>MK</td><td>  10744.0</td><td> 2075301</td><td>FALSE</td><td>0</td><td> 0.35</td></tr>\n",
       "\t<tr><td>MT</td><td>  12977.2</td><td>  475701</td><td> TRUE</td><td>1</td><td> 0.41</td></tr>\n",
       "\t<tr><td>NL</td><td> 773987.0</td><td>17181084</td><td>FALSE</td><td>1</td><td> 3.50</td></tr>\n",
       "\t<tr><td>NO</td><td> 372657.6</td><td> 5295619</td><td>FALSE</td><td>1</td><td> 4.70</td></tr>\n",
       "\t<tr><td>PL</td><td> 499004.1</td><td>37976687</td><td>FALSE</td><td>1</td><td> 3.33</td></tr>\n",
       "\t<tr><td>PT</td><td> 205184.1</td><td>10291027</td><td>FALSE</td><td>1</td><td> 5.68</td></tr>\n",
       "\t<tr><td>RO</td><td> 206071.9</td><td>19533481</td><td> TRUE</td><td>1</td><td> 2.43</td></tr>\n",
       "\t<tr><td>RS</td><td>  42892.2</td><td> 7001444</td><td>FALSE</td><td>0</td><td> 0.55</td></tr>\n",
       "\t<tr><td>SE</td><td> 470673.1</td><td>10120242</td><td>FALSE</td><td>1</td><td>20.29</td></tr>\n",
       "\t<tr><td>SI</td><td>  45876.3</td><td> 2066880</td><td> TRUE</td><td>1</td><td>10.01</td></tr>\n",
       "\t<tr><td>SK</td><td>  89874.7</td><td> 5443120</td><td> TRUE</td><td>0</td><td> 9.85</td></tr>\n",
       "\t<tr><td>TR</td><td> 658544.4</td><td>80810525</td><td>FALSE</td><td>1</td><td> 1.69</td></tr>\n",
       "\t<tr><td>UK</td><td>2420897.2</td><td>66273576</td><td>FALSE</td><td>1</td><td> 2.64</td></tr>\n",
       "\t<tr><td>XK</td><td>   6671.5</td><td> 1798506</td><td>FALSE</td><td>0</td><td>   NA</td></tr>\n",
       "</tbody>\n",
       "</table>\n"
      ],
      "text/latex": [
       "A data.frame: 39 × 6\n",
       "\\begin{tabular}{llllll}\n",
       " geo & values & population & uses\\_euro & has\\_sea\\_access & farm area\\\\\n",
       " <chr> & <dbl> & <dbl> & <lgl> & <dbl> & <dbl>\\\\\n",
       "\\hline\n",
       "\t AL &   12828.1 &  2870324 & FALSE & 1 &    NA\\\\\n",
       "\t AT &  385274.1 &  8822267 &  TRUE & 0 & 24.08\\\\\n",
       "\t BA &   17354.2 &       NA & FALSE & 1 &    NA\\\\\n",
       "\t BE &  460050.8 & 11398589 &  TRUE & 1 &  6.56\\\\\n",
       "\t BG &   56224.8 &  7050034 & FALSE & 0 &  2.56\\\\\n",
       "\t CH &  614304.4 &  8484130 & FALSE & 0 & 15.40\\\\\n",
       "\t CY &   21674.0 &   864236 &  TRUE & 1 &  4.55\\\\\n",
       "\t CZ &  210970.5 & 10610055 & FALSE & 0 & 14.76\\\\\n",
       "\t DE & 3365450.0 & 82792351 &  TRUE & 1 &  7.34\\\\\n",
       "\t DK &  302328.7 &  5781190 & FALSE & 1 &  9.75\\\\\n",
       "\t EE &   25932.2 &  1319133 &  TRUE & 1 & 20.98\\\\\n",
       "\t EL &  179557.7 & 10741165 &  TRUE & 1 &  9.32\\\\\n",
       "\t ES & 1203859.0 & 46658447 &  TRUE & 1 &  9.28\\\\\n",
       "\t FI &  233462.0 &  5513130 &  TRUE & 1 & 13.09\\\\\n",
       "\t FR & 2363306.0 & 67026224 &  TRUE & 1 &  7.01\\\\\n",
       "\t HR &   52747.2 &  4105493 &  TRUE & 1 &  6.94\\\\\n",
       "\t HU &  136055.4 &  9778371 & FALSE & 0 &  3.92\\\\\n",
       "\t IE &  326631.3 &  4830392 &  TRUE & 1 &  1.65\\\\\n",
       "\t IS &   22238.3 &   348450 & FALSE & 1 &    NA\\\\\n",
       "\t IT & 1771391.2 & 60483973 & FALSE & 1 & 15.17\\\\\n",
       "\t LI &    5666.3 &    38114 & FALSE & 0 &    NA\\\\\n",
       "\t LT &   45515.2 &  2808901 & FALSE & 1 &  8.13\\\\\n",
       "\t LU &   60121.2 &   602005 &  TRUE & 0 &  4.39\\\\\n",
       "\t LV &   29153.6 &  1934379 &  TRUE & 1 & 14.47\\\\\n",
       "\t ME &    4663.1 &   622359 &  TRUE & 1 &  1.73\\\\\n",
       "\t MK &   10744.0 &  2075301 & FALSE & 0 &  0.35\\\\\n",
       "\t MT &   12977.2 &   475701 &  TRUE & 1 &  0.41\\\\\n",
       "\t NL &  773987.0 & 17181084 & FALSE & 1 &  3.50\\\\\n",
       "\t NO &  372657.6 &  5295619 & FALSE & 1 &  4.70\\\\\n",
       "\t PL &  499004.1 & 37976687 & FALSE & 1 &  3.33\\\\\n",
       "\t PT &  205184.1 & 10291027 & FALSE & 1 &  5.68\\\\\n",
       "\t RO &  206071.9 & 19533481 &  TRUE & 1 &  2.43\\\\\n",
       "\t RS &   42892.2 &  7001444 & FALSE & 0 &  0.55\\\\\n",
       "\t SE &  470673.1 & 10120242 & FALSE & 1 & 20.29\\\\\n",
       "\t SI &   45876.3 &  2066880 &  TRUE & 1 & 10.01\\\\\n",
       "\t SK &   89874.7 &  5443120 &  TRUE & 0 &  9.85\\\\\n",
       "\t TR &  658544.4 & 80810525 & FALSE & 1 &  1.69\\\\\n",
       "\t UK & 2420897.2 & 66273576 & FALSE & 1 &  2.64\\\\\n",
       "\t XK &    6671.5 &  1798506 & FALSE & 0 &    NA\\\\\n",
       "\\end{tabular}\n"
      ],
      "text/markdown": [
       "\n",
       "A data.frame: 39 × 6\n",
       "\n",
       "| geo &lt;chr&gt; | values &lt;dbl&gt; | population &lt;dbl&gt; | uses_euro &lt;lgl&gt; | has_sea_access &lt;dbl&gt; | farm area &lt;dbl&gt; |\n",
       "|---|---|---|---|---|---|\n",
       "| AL |   12828.1 |  2870324 | FALSE | 1 |    NA |\n",
       "| AT |  385274.1 |  8822267 |  TRUE | 0 | 24.08 |\n",
       "| BA |   17354.2 |       NA | FALSE | 1 |    NA |\n",
       "| BE |  460050.8 | 11398589 |  TRUE | 1 |  6.56 |\n",
       "| BG |   56224.8 |  7050034 | FALSE | 0 |  2.56 |\n",
       "| CH |  614304.4 |  8484130 | FALSE | 0 | 15.40 |\n",
       "| CY |   21674.0 |   864236 |  TRUE | 1 |  4.55 |\n",
       "| CZ |  210970.5 | 10610055 | FALSE | 0 | 14.76 |\n",
       "| DE | 3365450.0 | 82792351 |  TRUE | 1 |  7.34 |\n",
       "| DK |  302328.7 |  5781190 | FALSE | 1 |  9.75 |\n",
       "| EE |   25932.2 |  1319133 |  TRUE | 1 | 20.98 |\n",
       "| EL |  179557.7 | 10741165 |  TRUE | 1 |  9.32 |\n",
       "| ES | 1203859.0 | 46658447 |  TRUE | 1 |  9.28 |\n",
       "| FI |  233462.0 |  5513130 |  TRUE | 1 | 13.09 |\n",
       "| FR | 2363306.0 | 67026224 |  TRUE | 1 |  7.01 |\n",
       "| HR |   52747.2 |  4105493 |  TRUE | 1 |  6.94 |\n",
       "| HU |  136055.4 |  9778371 | FALSE | 0 |  3.92 |\n",
       "| IE |  326631.3 |  4830392 |  TRUE | 1 |  1.65 |\n",
       "| IS |   22238.3 |   348450 | FALSE | 1 |    NA |\n",
       "| IT | 1771391.2 | 60483973 | FALSE | 1 | 15.17 |\n",
       "| LI |    5666.3 |    38114 | FALSE | 0 |    NA |\n",
       "| LT |   45515.2 |  2808901 | FALSE | 1 |  8.13 |\n",
       "| LU |   60121.2 |   602005 |  TRUE | 0 |  4.39 |\n",
       "| LV |   29153.6 |  1934379 |  TRUE | 1 | 14.47 |\n",
       "| ME |    4663.1 |   622359 |  TRUE | 1 |  1.73 |\n",
       "| MK |   10744.0 |  2075301 | FALSE | 0 |  0.35 |\n",
       "| MT |   12977.2 |   475701 |  TRUE | 1 |  0.41 |\n",
       "| NL |  773987.0 | 17181084 | FALSE | 1 |  3.50 |\n",
       "| NO |  372657.6 |  5295619 | FALSE | 1 |  4.70 |\n",
       "| PL |  499004.1 | 37976687 | FALSE | 1 |  3.33 |\n",
       "| PT |  205184.1 | 10291027 | FALSE | 1 |  5.68 |\n",
       "| RO |  206071.9 | 19533481 |  TRUE | 1 |  2.43 |\n",
       "| RS |   42892.2 |  7001444 | FALSE | 0 |  0.55 |\n",
       "| SE |  470673.1 | 10120242 | FALSE | 1 | 20.29 |\n",
       "| SI |   45876.3 |  2066880 |  TRUE | 1 | 10.01 |\n",
       "| SK |   89874.7 |  5443120 |  TRUE | 0 |  9.85 |\n",
       "| TR |  658544.4 | 80810525 | FALSE | 1 |  1.69 |\n",
       "| UK | 2420897.2 | 66273576 | FALSE | 1 |  2.64 |\n",
       "| XK |    6671.5 |  1798506 | FALSE | 0 |    NA |\n",
       "\n"
      ],
      "text/plain": [
       "   geo values    population uses_euro has_sea_access farm area\n",
       "1  AL    12828.1  2870324   FALSE     1                 NA    \n",
       "2  AT   385274.1  8822267    TRUE     0              24.08    \n",
       "3  BA    17354.2       NA   FALSE     1                 NA    \n",
       "4  BE   460050.8 11398589    TRUE     1               6.56    \n",
       "5  BG    56224.8  7050034   FALSE     0               2.56    \n",
       "6  CH   614304.4  8484130   FALSE     0              15.40    \n",
       "7  CY    21674.0   864236    TRUE     1               4.55    \n",
       "8  CZ   210970.5 10610055   FALSE     0              14.76    \n",
       "9  DE  3365450.0 82792351    TRUE     1               7.34    \n",
       "10 DK   302328.7  5781190   FALSE     1               9.75    \n",
       "11 EE    25932.2  1319133    TRUE     1              20.98    \n",
       "12 EL   179557.7 10741165    TRUE     1               9.32    \n",
       "13 ES  1203859.0 46658447    TRUE     1               9.28    \n",
       "14 FI   233462.0  5513130    TRUE     1              13.09    \n",
       "15 FR  2363306.0 67026224    TRUE     1               7.01    \n",
       "16 HR    52747.2  4105493    TRUE     1               6.94    \n",
       "17 HU   136055.4  9778371   FALSE     0               3.92    \n",
       "18 IE   326631.3  4830392    TRUE     1               1.65    \n",
       "19 IS    22238.3   348450   FALSE     1                 NA    \n",
       "20 IT  1771391.2 60483973   FALSE     1              15.17    \n",
       "21 LI     5666.3    38114   FALSE     0                 NA    \n",
       "22 LT    45515.2  2808901   FALSE     1               8.13    \n",
       "23 LU    60121.2   602005    TRUE     0               4.39    \n",
       "24 LV    29153.6  1934379    TRUE     1              14.47    \n",
       "25 ME     4663.1   622359    TRUE     1               1.73    \n",
       "26 MK    10744.0  2075301   FALSE     0               0.35    \n",
       "27 MT    12977.2   475701    TRUE     1               0.41    \n",
       "28 NL   773987.0 17181084   FALSE     1               3.50    \n",
       "29 NO   372657.6  5295619   FALSE     1               4.70    \n",
       "30 PL   499004.1 37976687   FALSE     1               3.33    \n",
       "31 PT   205184.1 10291027   FALSE     1               5.68    \n",
       "32 RO   206071.9 19533481    TRUE     1               2.43    \n",
       "33 RS    42892.2  7001444   FALSE     0               0.55    \n",
       "34 SE   470673.1 10120242   FALSE     1              20.29    \n",
       "35 SI    45876.3  2066880    TRUE     1              10.01    \n",
       "36 SK    89874.7  5443120    TRUE     0               9.85    \n",
       "37 TR   658544.4 80810525   FALSE     1               1.69    \n",
       "38 UK  2420897.2 66273576   FALSE     1               2.64    \n",
       "39 XK     6671.5  1798506   FALSE     0                 NA    "
      ]
     },
     "metadata": {},
     "output_type": "display_data"
    }
   ],
   "source": [
    "df"
   ]
  },
  {
   "cell_type": "code",
   "execution_count": 20,
   "id": "dd05e534-887b-4451-9ee7-33476cf87eb0",
   "metadata": {
    "vscode": {
     "languageId": "r"
    }
   },
   "outputs": [],
   "source": [
    "df[df$geo == \"IS\",]$\"farm area\" <- 0.4\n",
    "df[df$geo == \"AL\",]$\"farm area\" <- 0.09\n",
    "df[df$geo == \"XK\",]$\"farm area\" <- 0\n",
    "df[df$geo == \"BA\",]$\"farm area\" <- 0\n",
    "df[df$geo == \"LI\",]$\"farm area\" <- 0"
   ]
  },
  {
   "attachments": {},
   "cell_type": "markdown",
   "id": "69813e5b-cbf8-46ac-8e43-8e57db6dc3f1",
   "metadata": {},
   "source": [
    "Proč čísla"
   ]
  },
  {
   "cell_type": "code",
   "execution_count": 21,
   "id": "8fe7bb56-c55f-4973-bf2b-5c70a93f844c",
   "metadata": {
    "vscode": {
     "languageId": "r"
    }
   },
   "outputs": [
    {
     "data": {
      "text/html": [
       "<table class=\"dataframe\">\n",
       "<caption>A data.frame: 39 × 6</caption>\n",
       "<thead>\n",
       "\t<tr><th scope=col>geo</th><th scope=col>values</th><th scope=col>population</th><th scope=col>uses_euro</th><th scope=col>has_sea_access</th><th scope=col>farm area</th></tr>\n",
       "\t<tr><th scope=col>&lt;chr&gt;</th><th scope=col>&lt;dbl&gt;</th><th scope=col>&lt;dbl&gt;</th><th scope=col>&lt;lgl&gt;</th><th scope=col>&lt;dbl&gt;</th><th scope=col>&lt;dbl&gt;</th></tr>\n",
       "</thead>\n",
       "<tbody>\n",
       "\t<tr><td>AL</td><td>  12828.1</td><td> 2870324</td><td>FALSE</td><td>1</td><td> 0.09</td></tr>\n",
       "\t<tr><td>AT</td><td> 385274.1</td><td> 8822267</td><td> TRUE</td><td>0</td><td>24.08</td></tr>\n",
       "\t<tr><td>BA</td><td>  17354.2</td><td>      NA</td><td>FALSE</td><td>1</td><td> 0.00</td></tr>\n",
       "\t<tr><td>BE</td><td> 460050.8</td><td>11398589</td><td> TRUE</td><td>1</td><td> 6.56</td></tr>\n",
       "\t<tr><td>BG</td><td>  56224.8</td><td> 7050034</td><td>FALSE</td><td>0</td><td> 2.56</td></tr>\n",
       "\t<tr><td>CH</td><td> 614304.4</td><td> 8484130</td><td>FALSE</td><td>0</td><td>15.40</td></tr>\n",
       "\t<tr><td>CY</td><td>  21674.0</td><td>  864236</td><td> TRUE</td><td>1</td><td> 4.55</td></tr>\n",
       "\t<tr><td>CZ</td><td> 210970.5</td><td>10610055</td><td>FALSE</td><td>0</td><td>14.76</td></tr>\n",
       "\t<tr><td>DE</td><td>3365450.0</td><td>82792351</td><td> TRUE</td><td>1</td><td> 7.34</td></tr>\n",
       "\t<tr><td>DK</td><td> 302328.7</td><td> 5781190</td><td>FALSE</td><td>1</td><td> 9.75</td></tr>\n",
       "\t<tr><td>EE</td><td>  25932.2</td><td> 1319133</td><td> TRUE</td><td>1</td><td>20.98</td></tr>\n",
       "\t<tr><td>EL</td><td> 179557.7</td><td>10741165</td><td> TRUE</td><td>1</td><td> 9.32</td></tr>\n",
       "\t<tr><td>ES</td><td>1203859.0</td><td>46658447</td><td> TRUE</td><td>1</td><td> 9.28</td></tr>\n",
       "\t<tr><td>FI</td><td> 233462.0</td><td> 5513130</td><td> TRUE</td><td>1</td><td>13.09</td></tr>\n",
       "\t<tr><td>FR</td><td>2363306.0</td><td>67026224</td><td> TRUE</td><td>1</td><td> 7.01</td></tr>\n",
       "\t<tr><td>HR</td><td>  52747.2</td><td> 4105493</td><td> TRUE</td><td>1</td><td> 6.94</td></tr>\n",
       "\t<tr><td>HU</td><td> 136055.4</td><td> 9778371</td><td>FALSE</td><td>0</td><td> 3.92</td></tr>\n",
       "\t<tr><td>IE</td><td> 326631.3</td><td> 4830392</td><td> TRUE</td><td>1</td><td> 1.65</td></tr>\n",
       "\t<tr><td>IS</td><td>  22238.3</td><td>  348450</td><td>FALSE</td><td>1</td><td> 0.40</td></tr>\n",
       "\t<tr><td>IT</td><td>1771391.2</td><td>60483973</td><td>FALSE</td><td>1</td><td>15.17</td></tr>\n",
       "\t<tr><td>LI</td><td>   5666.3</td><td>   38114</td><td>FALSE</td><td>0</td><td> 0.00</td></tr>\n",
       "\t<tr><td>LT</td><td>  45515.2</td><td> 2808901</td><td>FALSE</td><td>1</td><td> 8.13</td></tr>\n",
       "\t<tr><td>LU</td><td>  60121.2</td><td>  602005</td><td> TRUE</td><td>0</td><td> 4.39</td></tr>\n",
       "\t<tr><td>LV</td><td>  29153.6</td><td> 1934379</td><td> TRUE</td><td>1</td><td>14.47</td></tr>\n",
       "\t<tr><td>ME</td><td>   4663.1</td><td>  622359</td><td> TRUE</td><td>1</td><td> 1.73</td></tr>\n",
       "\t<tr><td>MK</td><td>  10744.0</td><td> 2075301</td><td>FALSE</td><td>0</td><td> 0.35</td></tr>\n",
       "\t<tr><td>MT</td><td>  12977.2</td><td>  475701</td><td> TRUE</td><td>1</td><td> 0.41</td></tr>\n",
       "\t<tr><td>NL</td><td> 773987.0</td><td>17181084</td><td>FALSE</td><td>1</td><td> 3.50</td></tr>\n",
       "\t<tr><td>NO</td><td> 372657.6</td><td> 5295619</td><td>FALSE</td><td>1</td><td> 4.70</td></tr>\n",
       "\t<tr><td>PL</td><td> 499004.1</td><td>37976687</td><td>FALSE</td><td>1</td><td> 3.33</td></tr>\n",
       "\t<tr><td>PT</td><td> 205184.1</td><td>10291027</td><td>FALSE</td><td>1</td><td> 5.68</td></tr>\n",
       "\t<tr><td>RO</td><td> 206071.9</td><td>19533481</td><td> TRUE</td><td>1</td><td> 2.43</td></tr>\n",
       "\t<tr><td>RS</td><td>  42892.2</td><td> 7001444</td><td>FALSE</td><td>0</td><td> 0.55</td></tr>\n",
       "\t<tr><td>SE</td><td> 470673.1</td><td>10120242</td><td>FALSE</td><td>1</td><td>20.29</td></tr>\n",
       "\t<tr><td>SI</td><td>  45876.3</td><td> 2066880</td><td> TRUE</td><td>1</td><td>10.01</td></tr>\n",
       "\t<tr><td>SK</td><td>  89874.7</td><td> 5443120</td><td> TRUE</td><td>0</td><td> 9.85</td></tr>\n",
       "\t<tr><td>TR</td><td> 658544.4</td><td>80810525</td><td>FALSE</td><td>1</td><td> 1.69</td></tr>\n",
       "\t<tr><td>UK</td><td>2420897.2</td><td>66273576</td><td>FALSE</td><td>1</td><td> 2.64</td></tr>\n",
       "\t<tr><td>XK</td><td>   6671.5</td><td> 1798506</td><td>FALSE</td><td>0</td><td> 0.00</td></tr>\n",
       "</tbody>\n",
       "</table>\n"
      ],
      "text/latex": [
       "A data.frame: 39 × 6\n",
       "\\begin{tabular}{llllll}\n",
       " geo & values & population & uses\\_euro & has\\_sea\\_access & farm area\\\\\n",
       " <chr> & <dbl> & <dbl> & <lgl> & <dbl> & <dbl>\\\\\n",
       "\\hline\n",
       "\t AL &   12828.1 &  2870324 & FALSE & 1 &  0.09\\\\\n",
       "\t AT &  385274.1 &  8822267 &  TRUE & 0 & 24.08\\\\\n",
       "\t BA &   17354.2 &       NA & FALSE & 1 &  0.00\\\\\n",
       "\t BE &  460050.8 & 11398589 &  TRUE & 1 &  6.56\\\\\n",
       "\t BG &   56224.8 &  7050034 & FALSE & 0 &  2.56\\\\\n",
       "\t CH &  614304.4 &  8484130 & FALSE & 0 & 15.40\\\\\n",
       "\t CY &   21674.0 &   864236 &  TRUE & 1 &  4.55\\\\\n",
       "\t CZ &  210970.5 & 10610055 & FALSE & 0 & 14.76\\\\\n",
       "\t DE & 3365450.0 & 82792351 &  TRUE & 1 &  7.34\\\\\n",
       "\t DK &  302328.7 &  5781190 & FALSE & 1 &  9.75\\\\\n",
       "\t EE &   25932.2 &  1319133 &  TRUE & 1 & 20.98\\\\\n",
       "\t EL &  179557.7 & 10741165 &  TRUE & 1 &  9.32\\\\\n",
       "\t ES & 1203859.0 & 46658447 &  TRUE & 1 &  9.28\\\\\n",
       "\t FI &  233462.0 &  5513130 &  TRUE & 1 & 13.09\\\\\n",
       "\t FR & 2363306.0 & 67026224 &  TRUE & 1 &  7.01\\\\\n",
       "\t HR &   52747.2 &  4105493 &  TRUE & 1 &  6.94\\\\\n",
       "\t HU &  136055.4 &  9778371 & FALSE & 0 &  3.92\\\\\n",
       "\t IE &  326631.3 &  4830392 &  TRUE & 1 &  1.65\\\\\n",
       "\t IS &   22238.3 &   348450 & FALSE & 1 &  0.40\\\\\n",
       "\t IT & 1771391.2 & 60483973 & FALSE & 1 & 15.17\\\\\n",
       "\t LI &    5666.3 &    38114 & FALSE & 0 &  0.00\\\\\n",
       "\t LT &   45515.2 &  2808901 & FALSE & 1 &  8.13\\\\\n",
       "\t LU &   60121.2 &   602005 &  TRUE & 0 &  4.39\\\\\n",
       "\t LV &   29153.6 &  1934379 &  TRUE & 1 & 14.47\\\\\n",
       "\t ME &    4663.1 &   622359 &  TRUE & 1 &  1.73\\\\\n",
       "\t MK &   10744.0 &  2075301 & FALSE & 0 &  0.35\\\\\n",
       "\t MT &   12977.2 &   475701 &  TRUE & 1 &  0.41\\\\\n",
       "\t NL &  773987.0 & 17181084 & FALSE & 1 &  3.50\\\\\n",
       "\t NO &  372657.6 &  5295619 & FALSE & 1 &  4.70\\\\\n",
       "\t PL &  499004.1 & 37976687 & FALSE & 1 &  3.33\\\\\n",
       "\t PT &  205184.1 & 10291027 & FALSE & 1 &  5.68\\\\\n",
       "\t RO &  206071.9 & 19533481 &  TRUE & 1 &  2.43\\\\\n",
       "\t RS &   42892.2 &  7001444 & FALSE & 0 &  0.55\\\\\n",
       "\t SE &  470673.1 & 10120242 & FALSE & 1 & 20.29\\\\\n",
       "\t SI &   45876.3 &  2066880 &  TRUE & 1 & 10.01\\\\\n",
       "\t SK &   89874.7 &  5443120 &  TRUE & 0 &  9.85\\\\\n",
       "\t TR &  658544.4 & 80810525 & FALSE & 1 &  1.69\\\\\n",
       "\t UK & 2420897.2 & 66273576 & FALSE & 1 &  2.64\\\\\n",
       "\t XK &    6671.5 &  1798506 & FALSE & 0 &  0.00\\\\\n",
       "\\end{tabular}\n"
      ],
      "text/markdown": [
       "\n",
       "A data.frame: 39 × 6\n",
       "\n",
       "| geo &lt;chr&gt; | values &lt;dbl&gt; | population &lt;dbl&gt; | uses_euro &lt;lgl&gt; | has_sea_access &lt;dbl&gt; | farm area &lt;dbl&gt; |\n",
       "|---|---|---|---|---|---|\n",
       "| AL |   12828.1 |  2870324 | FALSE | 1 |  0.09 |\n",
       "| AT |  385274.1 |  8822267 |  TRUE | 0 | 24.08 |\n",
       "| BA |   17354.2 |       NA | FALSE | 1 |  0.00 |\n",
       "| BE |  460050.8 | 11398589 |  TRUE | 1 |  6.56 |\n",
       "| BG |   56224.8 |  7050034 | FALSE | 0 |  2.56 |\n",
       "| CH |  614304.4 |  8484130 | FALSE | 0 | 15.40 |\n",
       "| CY |   21674.0 |   864236 |  TRUE | 1 |  4.55 |\n",
       "| CZ |  210970.5 | 10610055 | FALSE | 0 | 14.76 |\n",
       "| DE | 3365450.0 | 82792351 |  TRUE | 1 |  7.34 |\n",
       "| DK |  302328.7 |  5781190 | FALSE | 1 |  9.75 |\n",
       "| EE |   25932.2 |  1319133 |  TRUE | 1 | 20.98 |\n",
       "| EL |  179557.7 | 10741165 |  TRUE | 1 |  9.32 |\n",
       "| ES | 1203859.0 | 46658447 |  TRUE | 1 |  9.28 |\n",
       "| FI |  233462.0 |  5513130 |  TRUE | 1 | 13.09 |\n",
       "| FR | 2363306.0 | 67026224 |  TRUE | 1 |  7.01 |\n",
       "| HR |   52747.2 |  4105493 |  TRUE | 1 |  6.94 |\n",
       "| HU |  136055.4 |  9778371 | FALSE | 0 |  3.92 |\n",
       "| IE |  326631.3 |  4830392 |  TRUE | 1 |  1.65 |\n",
       "| IS |   22238.3 |   348450 | FALSE | 1 |  0.40 |\n",
       "| IT | 1771391.2 | 60483973 | FALSE | 1 | 15.17 |\n",
       "| LI |    5666.3 |    38114 | FALSE | 0 |  0.00 |\n",
       "| LT |   45515.2 |  2808901 | FALSE | 1 |  8.13 |\n",
       "| LU |   60121.2 |   602005 |  TRUE | 0 |  4.39 |\n",
       "| LV |   29153.6 |  1934379 |  TRUE | 1 | 14.47 |\n",
       "| ME |    4663.1 |   622359 |  TRUE | 1 |  1.73 |\n",
       "| MK |   10744.0 |  2075301 | FALSE | 0 |  0.35 |\n",
       "| MT |   12977.2 |   475701 |  TRUE | 1 |  0.41 |\n",
       "| NL |  773987.0 | 17181084 | FALSE | 1 |  3.50 |\n",
       "| NO |  372657.6 |  5295619 | FALSE | 1 |  4.70 |\n",
       "| PL |  499004.1 | 37976687 | FALSE | 1 |  3.33 |\n",
       "| PT |  205184.1 | 10291027 | FALSE | 1 |  5.68 |\n",
       "| RO |  206071.9 | 19533481 |  TRUE | 1 |  2.43 |\n",
       "| RS |   42892.2 |  7001444 | FALSE | 0 |  0.55 |\n",
       "| SE |  470673.1 | 10120242 | FALSE | 1 | 20.29 |\n",
       "| SI |   45876.3 |  2066880 |  TRUE | 1 | 10.01 |\n",
       "| SK |   89874.7 |  5443120 |  TRUE | 0 |  9.85 |\n",
       "| TR |  658544.4 | 80810525 | FALSE | 1 |  1.69 |\n",
       "| UK | 2420897.2 | 66273576 | FALSE | 1 |  2.64 |\n",
       "| XK |    6671.5 |  1798506 | FALSE | 0 |  0.00 |\n",
       "\n"
      ],
      "text/plain": [
       "   geo values    population uses_euro has_sea_access farm area\n",
       "1  AL    12828.1  2870324   FALSE     1               0.09    \n",
       "2  AT   385274.1  8822267    TRUE     0              24.08    \n",
       "3  BA    17354.2       NA   FALSE     1               0.00    \n",
       "4  BE   460050.8 11398589    TRUE     1               6.56    \n",
       "5  BG    56224.8  7050034   FALSE     0               2.56    \n",
       "6  CH   614304.4  8484130   FALSE     0              15.40    \n",
       "7  CY    21674.0   864236    TRUE     1               4.55    \n",
       "8  CZ   210970.5 10610055   FALSE     0              14.76    \n",
       "9  DE  3365450.0 82792351    TRUE     1               7.34    \n",
       "10 DK   302328.7  5781190   FALSE     1               9.75    \n",
       "11 EE    25932.2  1319133    TRUE     1              20.98    \n",
       "12 EL   179557.7 10741165    TRUE     1               9.32    \n",
       "13 ES  1203859.0 46658447    TRUE     1               9.28    \n",
       "14 FI   233462.0  5513130    TRUE     1              13.09    \n",
       "15 FR  2363306.0 67026224    TRUE     1               7.01    \n",
       "16 HR    52747.2  4105493    TRUE     1               6.94    \n",
       "17 HU   136055.4  9778371   FALSE     0               3.92    \n",
       "18 IE   326631.3  4830392    TRUE     1               1.65    \n",
       "19 IS    22238.3   348450   FALSE     1               0.40    \n",
       "20 IT  1771391.2 60483973   FALSE     1              15.17    \n",
       "21 LI     5666.3    38114   FALSE     0               0.00    \n",
       "22 LT    45515.2  2808901   FALSE     1               8.13    \n",
       "23 LU    60121.2   602005    TRUE     0               4.39    \n",
       "24 LV    29153.6  1934379    TRUE     1              14.47    \n",
       "25 ME     4663.1   622359    TRUE     1               1.73    \n",
       "26 MK    10744.0  2075301   FALSE     0               0.35    \n",
       "27 MT    12977.2   475701    TRUE     1               0.41    \n",
       "28 NL   773987.0 17181084   FALSE     1               3.50    \n",
       "29 NO   372657.6  5295619   FALSE     1               4.70    \n",
       "30 PL   499004.1 37976687   FALSE     1               3.33    \n",
       "31 PT   205184.1 10291027   FALSE     1               5.68    \n",
       "32 RO   206071.9 19533481    TRUE     1               2.43    \n",
       "33 RS    42892.2  7001444   FALSE     0               0.55    \n",
       "34 SE   470673.1 10120242   FALSE     1              20.29    \n",
       "35 SI    45876.3  2066880    TRUE     1              10.01    \n",
       "36 SK    89874.7  5443120    TRUE     0               9.85    \n",
       "37 TR   658544.4 80810525   FALSE     1               1.69    \n",
       "38 UK  2420897.2 66273576   FALSE     1               2.64    \n",
       "39 XK     6671.5  1798506   FALSE     0               0.00    "
      ]
     },
     "metadata": {},
     "output_type": "display_data"
    }
   ],
   "source": [
    "df"
   ]
  },
  {
   "cell_type": "code",
   "execution_count": 24,
   "id": "844b36e4-439e-4b79-92f3-6a270f176eef",
   "metadata": {
    "vscode": {
     "languageId": "r"
    }
   },
   "outputs": [
    {
     "data": {
      "text/html": [
       "<table class=\"dataframe\">\n",
       "<caption>A data.frame: 39 × 6</caption>\n",
       "<thead>\n",
       "\t<tr><th scope=col>geo</th><th scope=col>values</th><th scope=col>population</th><th scope=col>uses_euro</th><th scope=col>has_sea_access</th><th scope=col>farm area</th></tr>\n",
       "\t<tr><th scope=col>&lt;chr&gt;</th><th scope=col>&lt;dbl&gt;</th><th scope=col>&lt;dbl&gt;</th><th scope=col>&lt;dbl&gt;</th><th scope=col>&lt;dbl&gt;</th><th scope=col>&lt;dbl&gt;</th></tr>\n",
       "</thead>\n",
       "<tbody>\n",
       "\t<tr><td>AL</td><td>  12828.1</td><td> 2870324</td><td>0</td><td>1</td><td> 0.09</td></tr>\n",
       "\t<tr><td>AT</td><td> 385274.1</td><td> 8822267</td><td>1</td><td>0</td><td>24.08</td></tr>\n",
       "\t<tr><td>BA</td><td>  17354.2</td><td> 3400000</td><td>0</td><td>1</td><td> 0.00</td></tr>\n",
       "\t<tr><td>BE</td><td> 460050.8</td><td>11398589</td><td>1</td><td>1</td><td> 6.56</td></tr>\n",
       "\t<tr><td>BG</td><td>  56224.8</td><td> 7050034</td><td>0</td><td>0</td><td> 2.56</td></tr>\n",
       "\t<tr><td>CH</td><td> 614304.4</td><td> 8484130</td><td>0</td><td>0</td><td>15.40</td></tr>\n",
       "\t<tr><td>CY</td><td>  21674.0</td><td>  864236</td><td>1</td><td>1</td><td> 4.55</td></tr>\n",
       "\t<tr><td>CZ</td><td> 210970.5</td><td>10610055</td><td>0</td><td>0</td><td>14.76</td></tr>\n",
       "\t<tr><td>DE</td><td>3365450.0</td><td>82792351</td><td>1</td><td>1</td><td> 7.34</td></tr>\n",
       "\t<tr><td>DK</td><td> 302328.7</td><td> 5781190</td><td>0</td><td>1</td><td> 9.75</td></tr>\n",
       "\t<tr><td>EE</td><td>  25932.2</td><td> 1319133</td><td>1</td><td>1</td><td>20.98</td></tr>\n",
       "\t<tr><td>EL</td><td> 179557.7</td><td>10741165</td><td>1</td><td>1</td><td> 9.32</td></tr>\n",
       "\t<tr><td>ES</td><td>1203859.0</td><td>46658447</td><td>1</td><td>1</td><td> 9.28</td></tr>\n",
       "\t<tr><td>FI</td><td> 233462.0</td><td> 5513130</td><td>1</td><td>1</td><td>13.09</td></tr>\n",
       "\t<tr><td>FR</td><td>2363306.0</td><td>67026224</td><td>1</td><td>1</td><td> 7.01</td></tr>\n",
       "\t<tr><td>HR</td><td>  52747.2</td><td> 4105493</td><td>1</td><td>1</td><td> 6.94</td></tr>\n",
       "\t<tr><td>HU</td><td> 136055.4</td><td> 9778371</td><td>0</td><td>0</td><td> 3.92</td></tr>\n",
       "\t<tr><td>IE</td><td> 326631.3</td><td> 4830392</td><td>1</td><td>1</td><td> 1.65</td></tr>\n",
       "\t<tr><td>IS</td><td>  22238.3</td><td>  348450</td><td>0</td><td>1</td><td> 0.40</td></tr>\n",
       "\t<tr><td>IT</td><td>1771391.2</td><td>60483973</td><td>0</td><td>1</td><td>15.17</td></tr>\n",
       "\t<tr><td>LI</td><td>   5666.3</td><td>   38114</td><td>0</td><td>0</td><td> 0.00</td></tr>\n",
       "\t<tr><td>LT</td><td>  45515.2</td><td> 2808901</td><td>0</td><td>1</td><td> 8.13</td></tr>\n",
       "\t<tr><td>LU</td><td>  60121.2</td><td>  602005</td><td>1</td><td>0</td><td> 4.39</td></tr>\n",
       "\t<tr><td>LV</td><td>  29153.6</td><td> 1934379</td><td>1</td><td>1</td><td>14.47</td></tr>\n",
       "\t<tr><td>ME</td><td>   4663.1</td><td>  622359</td><td>1</td><td>1</td><td> 1.73</td></tr>\n",
       "\t<tr><td>MK</td><td>  10744.0</td><td> 2075301</td><td>0</td><td>0</td><td> 0.35</td></tr>\n",
       "\t<tr><td>MT</td><td>  12977.2</td><td>  475701</td><td>1</td><td>1</td><td> 0.41</td></tr>\n",
       "\t<tr><td>NL</td><td> 773987.0</td><td>17181084</td><td>0</td><td>1</td><td> 3.50</td></tr>\n",
       "\t<tr><td>NO</td><td> 372657.6</td><td> 5295619</td><td>0</td><td>1</td><td> 4.70</td></tr>\n",
       "\t<tr><td>PL</td><td> 499004.1</td><td>37976687</td><td>0</td><td>1</td><td> 3.33</td></tr>\n",
       "\t<tr><td>PT</td><td> 205184.1</td><td>10291027</td><td>0</td><td>1</td><td> 5.68</td></tr>\n",
       "\t<tr><td>RO</td><td> 206071.9</td><td>19533481</td><td>1</td><td>1</td><td> 2.43</td></tr>\n",
       "\t<tr><td>RS</td><td>  42892.2</td><td> 7001444</td><td>0</td><td>0</td><td> 0.55</td></tr>\n",
       "\t<tr><td>SE</td><td> 470673.1</td><td>10120242</td><td>0</td><td>1</td><td>20.29</td></tr>\n",
       "\t<tr><td>SI</td><td>  45876.3</td><td> 2066880</td><td>1</td><td>1</td><td>10.01</td></tr>\n",
       "\t<tr><td>SK</td><td>  89874.7</td><td> 5443120</td><td>1</td><td>0</td><td> 9.85</td></tr>\n",
       "\t<tr><td>TR</td><td> 658544.4</td><td>80810525</td><td>0</td><td>1</td><td> 1.69</td></tr>\n",
       "\t<tr><td>UK</td><td>2420897.2</td><td>66273576</td><td>0</td><td>1</td><td> 2.64</td></tr>\n",
       "\t<tr><td>XK</td><td>   6671.5</td><td> 1798506</td><td>0</td><td>0</td><td> 0.00</td></tr>\n",
       "</tbody>\n",
       "</table>\n"
      ],
      "text/latex": [
       "A data.frame: 39 × 6\n",
       "\\begin{tabular}{llllll}\n",
       " geo & values & population & uses\\_euro & has\\_sea\\_access & farm area\\\\\n",
       " <chr> & <dbl> & <dbl> & <dbl> & <dbl> & <dbl>\\\\\n",
       "\\hline\n",
       "\t AL &   12828.1 &  2870324 & 0 & 1 &  0.09\\\\\n",
       "\t AT &  385274.1 &  8822267 & 1 & 0 & 24.08\\\\\n",
       "\t BA &   17354.2 &  3400000 & 0 & 1 &  0.00\\\\\n",
       "\t BE &  460050.8 & 11398589 & 1 & 1 &  6.56\\\\\n",
       "\t BG &   56224.8 &  7050034 & 0 & 0 &  2.56\\\\\n",
       "\t CH &  614304.4 &  8484130 & 0 & 0 & 15.40\\\\\n",
       "\t CY &   21674.0 &   864236 & 1 & 1 &  4.55\\\\\n",
       "\t CZ &  210970.5 & 10610055 & 0 & 0 & 14.76\\\\\n",
       "\t DE & 3365450.0 & 82792351 & 1 & 1 &  7.34\\\\\n",
       "\t DK &  302328.7 &  5781190 & 0 & 1 &  9.75\\\\\n",
       "\t EE &   25932.2 &  1319133 & 1 & 1 & 20.98\\\\\n",
       "\t EL &  179557.7 & 10741165 & 1 & 1 &  9.32\\\\\n",
       "\t ES & 1203859.0 & 46658447 & 1 & 1 &  9.28\\\\\n",
       "\t FI &  233462.0 &  5513130 & 1 & 1 & 13.09\\\\\n",
       "\t FR & 2363306.0 & 67026224 & 1 & 1 &  7.01\\\\\n",
       "\t HR &   52747.2 &  4105493 & 1 & 1 &  6.94\\\\\n",
       "\t HU &  136055.4 &  9778371 & 0 & 0 &  3.92\\\\\n",
       "\t IE &  326631.3 &  4830392 & 1 & 1 &  1.65\\\\\n",
       "\t IS &   22238.3 &   348450 & 0 & 1 &  0.40\\\\\n",
       "\t IT & 1771391.2 & 60483973 & 0 & 1 & 15.17\\\\\n",
       "\t LI &    5666.3 &    38114 & 0 & 0 &  0.00\\\\\n",
       "\t LT &   45515.2 &  2808901 & 0 & 1 &  8.13\\\\\n",
       "\t LU &   60121.2 &   602005 & 1 & 0 &  4.39\\\\\n",
       "\t LV &   29153.6 &  1934379 & 1 & 1 & 14.47\\\\\n",
       "\t ME &    4663.1 &   622359 & 1 & 1 &  1.73\\\\\n",
       "\t MK &   10744.0 &  2075301 & 0 & 0 &  0.35\\\\\n",
       "\t MT &   12977.2 &   475701 & 1 & 1 &  0.41\\\\\n",
       "\t NL &  773987.0 & 17181084 & 0 & 1 &  3.50\\\\\n",
       "\t NO &  372657.6 &  5295619 & 0 & 1 &  4.70\\\\\n",
       "\t PL &  499004.1 & 37976687 & 0 & 1 &  3.33\\\\\n",
       "\t PT &  205184.1 & 10291027 & 0 & 1 &  5.68\\\\\n",
       "\t RO &  206071.9 & 19533481 & 1 & 1 &  2.43\\\\\n",
       "\t RS &   42892.2 &  7001444 & 0 & 0 &  0.55\\\\\n",
       "\t SE &  470673.1 & 10120242 & 0 & 1 & 20.29\\\\\n",
       "\t SI &   45876.3 &  2066880 & 1 & 1 & 10.01\\\\\n",
       "\t SK &   89874.7 &  5443120 & 1 & 0 &  9.85\\\\\n",
       "\t TR &  658544.4 & 80810525 & 0 & 1 &  1.69\\\\\n",
       "\t UK & 2420897.2 & 66273576 & 0 & 1 &  2.64\\\\\n",
       "\t XK &    6671.5 &  1798506 & 0 & 0 &  0.00\\\\\n",
       "\\end{tabular}\n"
      ],
      "text/markdown": [
       "\n",
       "A data.frame: 39 × 6\n",
       "\n",
       "| geo &lt;chr&gt; | values &lt;dbl&gt; | population &lt;dbl&gt; | uses_euro &lt;dbl&gt; | has_sea_access &lt;dbl&gt; | farm area &lt;dbl&gt; |\n",
       "|---|---|---|---|---|---|\n",
       "| AL |   12828.1 |  2870324 | 0 | 1 |  0.09 |\n",
       "| AT |  385274.1 |  8822267 | 1 | 0 | 24.08 |\n",
       "| BA |   17354.2 |  3400000 | 0 | 1 |  0.00 |\n",
       "| BE |  460050.8 | 11398589 | 1 | 1 |  6.56 |\n",
       "| BG |   56224.8 |  7050034 | 0 | 0 |  2.56 |\n",
       "| CH |  614304.4 |  8484130 | 0 | 0 | 15.40 |\n",
       "| CY |   21674.0 |   864236 | 1 | 1 |  4.55 |\n",
       "| CZ |  210970.5 | 10610055 | 0 | 0 | 14.76 |\n",
       "| DE | 3365450.0 | 82792351 | 1 | 1 |  7.34 |\n",
       "| DK |  302328.7 |  5781190 | 0 | 1 |  9.75 |\n",
       "| EE |   25932.2 |  1319133 | 1 | 1 | 20.98 |\n",
       "| EL |  179557.7 | 10741165 | 1 | 1 |  9.32 |\n",
       "| ES | 1203859.0 | 46658447 | 1 | 1 |  9.28 |\n",
       "| FI |  233462.0 |  5513130 | 1 | 1 | 13.09 |\n",
       "| FR | 2363306.0 | 67026224 | 1 | 1 |  7.01 |\n",
       "| HR |   52747.2 |  4105493 | 1 | 1 |  6.94 |\n",
       "| HU |  136055.4 |  9778371 | 0 | 0 |  3.92 |\n",
       "| IE |  326631.3 |  4830392 | 1 | 1 |  1.65 |\n",
       "| IS |   22238.3 |   348450 | 0 | 1 |  0.40 |\n",
       "| IT | 1771391.2 | 60483973 | 0 | 1 | 15.17 |\n",
       "| LI |    5666.3 |    38114 | 0 | 0 |  0.00 |\n",
       "| LT |   45515.2 |  2808901 | 0 | 1 |  8.13 |\n",
       "| LU |   60121.2 |   602005 | 1 | 0 |  4.39 |\n",
       "| LV |   29153.6 |  1934379 | 1 | 1 | 14.47 |\n",
       "| ME |    4663.1 |   622359 | 1 | 1 |  1.73 |\n",
       "| MK |   10744.0 |  2075301 | 0 | 0 |  0.35 |\n",
       "| MT |   12977.2 |   475701 | 1 | 1 |  0.41 |\n",
       "| NL |  773987.0 | 17181084 | 0 | 1 |  3.50 |\n",
       "| NO |  372657.6 |  5295619 | 0 | 1 |  4.70 |\n",
       "| PL |  499004.1 | 37976687 | 0 | 1 |  3.33 |\n",
       "| PT |  205184.1 | 10291027 | 0 | 1 |  5.68 |\n",
       "| RO |  206071.9 | 19533481 | 1 | 1 |  2.43 |\n",
       "| RS |   42892.2 |  7001444 | 0 | 0 |  0.55 |\n",
       "| SE |  470673.1 | 10120242 | 0 | 1 | 20.29 |\n",
       "| SI |   45876.3 |  2066880 | 1 | 1 | 10.01 |\n",
       "| SK |   89874.7 |  5443120 | 1 | 0 |  9.85 |\n",
       "| TR |  658544.4 | 80810525 | 0 | 1 |  1.69 |\n",
       "| UK | 2420897.2 | 66273576 | 0 | 1 |  2.64 |\n",
       "| XK |    6671.5 |  1798506 | 0 | 0 |  0.00 |\n",
       "\n"
      ],
      "text/plain": [
       "   geo values    population uses_euro has_sea_access farm area\n",
       "1  AL    12828.1  2870324   0         1               0.09    \n",
       "2  AT   385274.1  8822267   1         0              24.08    \n",
       "3  BA    17354.2  3400000   0         1               0.00    \n",
       "4  BE   460050.8 11398589   1         1               6.56    \n",
       "5  BG    56224.8  7050034   0         0               2.56    \n",
       "6  CH   614304.4  8484130   0         0              15.40    \n",
       "7  CY    21674.0   864236   1         1               4.55    \n",
       "8  CZ   210970.5 10610055   0         0              14.76    \n",
       "9  DE  3365450.0 82792351   1         1               7.34    \n",
       "10 DK   302328.7  5781190   0         1               9.75    \n",
       "11 EE    25932.2  1319133   1         1              20.98    \n",
       "12 EL   179557.7 10741165   1         1               9.32    \n",
       "13 ES  1203859.0 46658447   1         1               9.28    \n",
       "14 FI   233462.0  5513130   1         1              13.09    \n",
       "15 FR  2363306.0 67026224   1         1               7.01    \n",
       "16 HR    52747.2  4105493   1         1               6.94    \n",
       "17 HU   136055.4  9778371   0         0               3.92    \n",
       "18 IE   326631.3  4830392   1         1               1.65    \n",
       "19 IS    22238.3   348450   0         1               0.40    \n",
       "20 IT  1771391.2 60483973   0         1              15.17    \n",
       "21 LI     5666.3    38114   0         0               0.00    \n",
       "22 LT    45515.2  2808901   0         1               8.13    \n",
       "23 LU    60121.2   602005   1         0               4.39    \n",
       "24 LV    29153.6  1934379   1         1              14.47    \n",
       "25 ME     4663.1   622359   1         1               1.73    \n",
       "26 MK    10744.0  2075301   0         0               0.35    \n",
       "27 MT    12977.2   475701   1         1               0.41    \n",
       "28 NL   773987.0 17181084   0         1               3.50    \n",
       "29 NO   372657.6  5295619   0         1               4.70    \n",
       "30 PL   499004.1 37976687   0         1               3.33    \n",
       "31 PT   205184.1 10291027   0         1               5.68    \n",
       "32 RO   206071.9 19533481   1         1               2.43    \n",
       "33 RS    42892.2  7001444   0         0               0.55    \n",
       "34 SE   470673.1 10120242   0         1              20.29    \n",
       "35 SI    45876.3  2066880   1         1              10.01    \n",
       "36 SK    89874.7  5443120   1         0               9.85    \n",
       "37 TR   658544.4 80810525   0         1               1.69    \n",
       "38 UK  2420897.2 66273576   0         1               2.64    \n",
       "39 XK     6671.5  1798506   0         0               0.00    "
      ]
     },
     "metadata": {},
     "output_type": "display_data"
    }
   ],
   "source": [
    "df$uses_euro <- as.numeric(df$uses_euro)\n",
    "df[df$geo == \"BA\",]$population <- 3400000\n",
    "df"
   ]
  },
  {
   "cell_type": "code",
   "execution_count": 27,
   "id": "4ba314a3-9a43-4657-b95e-773a4fc221e0",
   "metadata": {
    "vscode": {
     "languageId": "r"
    }
   },
   "outputs": [
    {
     "data": {
      "text/html": [
       "<table class=\"dataframe\">\n",
       "<caption>A matrix: 5 × 5 of type dbl</caption>\n",
       "<thead>\n",
       "\t<tr><th></th><th scope=col>values</th><th scope=col>population</th><th scope=col>uses_euro</th><th scope=col>has_sea_access</th><th scope=col>farm area</th></tr>\n",
       "</thead>\n",
       "<tbody>\n",
       "\t<tr><th scope=row>values</th><td>1.00000000</td><td> 0.874526309</td><td> 0.06053945</td><td> 0.255583721</td><td> 0.107951446</td></tr>\n",
       "\t<tr><th scope=row>population</th><td>0.87452631</td><td> 1.000000000</td><td>-0.03039549</td><td> 0.279392770</td><td> 0.007557918</td></tr>\n",
       "\t<tr><th scope=row>uses_euro</th><td>0.06053945</td><td>-0.030395493</td><td> 1.00000000</td><td> 0.237390733</td><td> 0.251203394</td></tr>\n",
       "\t<tr><th scope=row>has_sea_access</th><td>0.25558372</td><td> 0.279392770</td><td> 0.23739073</td><td> 1.000000000</td><td>-0.004980719</td></tr>\n",
       "\t<tr><th scope=row>farm area</th><td>0.10795145</td><td> 0.007557918</td><td> 0.25120339</td><td>-0.004980719</td><td> 1.000000000</td></tr>\n",
       "</tbody>\n",
       "</table>\n"
      ],
      "text/latex": [
       "A matrix: 5 × 5 of type dbl\n",
       "\\begin{tabular}{r|lllll}\n",
       "  & values & population & uses\\_euro & has\\_sea\\_access & farm area\\\\\n",
       "\\hline\n",
       "\tvalues & 1.00000000 &  0.874526309 &  0.06053945 &  0.255583721 &  0.107951446\\\\\n",
       "\tpopulation & 0.87452631 &  1.000000000 & -0.03039549 &  0.279392770 &  0.007557918\\\\\n",
       "\tuses\\_euro & 0.06053945 & -0.030395493 &  1.00000000 &  0.237390733 &  0.251203394\\\\\n",
       "\thas\\_sea\\_access & 0.25558372 &  0.279392770 &  0.23739073 &  1.000000000 & -0.004980719\\\\\n",
       "\tfarm area & 0.10795145 &  0.007557918 &  0.25120339 & -0.004980719 &  1.000000000\\\\\n",
       "\\end{tabular}\n"
      ],
      "text/markdown": [
       "\n",
       "A matrix: 5 × 5 of type dbl\n",
       "\n",
       "| <!--/--> | values | population | uses_euro | has_sea_access | farm area |\n",
       "|---|---|---|---|---|---|\n",
       "| values | 1.00000000 |  0.874526309 |  0.06053945 |  0.255583721 |  0.107951446 |\n",
       "| population | 0.87452631 |  1.000000000 | -0.03039549 |  0.279392770 |  0.007557918 |\n",
       "| uses_euro | 0.06053945 | -0.030395493 |  1.00000000 |  0.237390733 |  0.251203394 |\n",
       "| has_sea_access | 0.25558372 |  0.279392770 |  0.23739073 |  1.000000000 | -0.004980719 |\n",
       "| farm area | 0.10795145 |  0.007557918 |  0.25120339 | -0.004980719 |  1.000000000 |\n",
       "\n"
      ],
      "text/plain": [
       "               values     population   uses_euro   has_sea_access farm area   \n",
       "values         1.00000000  0.874526309  0.06053945  0.255583721    0.107951446\n",
       "population     0.87452631  1.000000000 -0.03039549  0.279392770    0.007557918\n",
       "uses_euro      0.06053945 -0.030395493  1.00000000  0.237390733    0.251203394\n",
       "has_sea_access 0.25558372  0.279392770  0.23739073  1.000000000   -0.004980719\n",
       "farm area      0.10795145  0.007557918  0.25120339 -0.004980719    1.000000000"
      ]
     },
     "metadata": {},
     "output_type": "display_data"
    }
   ],
   "source": [
    "subset_data <- df[, !colnames(df) %in% c('geo')]\n",
    "cor_table <- cor(subset_data)\n",
    "cor_table"
   ]
  },
  {
   "cell_type": "code",
   "execution_count": null,
   "id": "811f6e97-1407-4ba3-9760-10ef925e5212",
   "metadata": {
    "vscode": {
     "languageId": "r"
    }
   },
   "outputs": [],
   "source": []
  }
 ],
 "metadata": {
  "kernelspec": {
   "display_name": "R",
   "language": "R",
   "name": "ir"
  },
  "language_info": {
   "codemirror_mode": "r",
   "file_extension": ".r",
   "mimetype": "text/x-r-source",
   "name": "R",
   "pygments_lexer": "r",
   "version": "4.1.3"
  }
 },
 "nbformat": 4,
 "nbformat_minor": 5
}
