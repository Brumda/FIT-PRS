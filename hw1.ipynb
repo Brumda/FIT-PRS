{
 "cells": [
  {
   "cell_type": "markdown",
   "id": "820d1408-12ea-48ba-8270-2f35d0e9affd",
   "metadata": {},
   "source": [
    "# Analýza počtu obyvatel podle věkových skupin v NUTS3 oblastech Nizozemska #"
   ]
  },
  {
   "cell_type": "markdown",
   "id": "99235908-bc30-445f-bbd8-758e3bdf7b3d",
   "metadata": {},
   "source": [
    "Pro správné fungování musíme načíst všechny potřebné balíky."
   ]
  },
  {
   "cell_type": "code",
   "execution_count": 1,
   "id": "57098e37-94c0-492a-bbcd-47ba0ff900e9",
   "metadata": {},
   "outputs": [
    {
     "name": "stderr",
     "output_type": "stream",
     "text": [
      "\n",
      "Attaching package: 'olsrr'\n",
      "\n",
      "\n",
      "The following object is masked from 'package:datasets':\n",
      "\n",
      "    rivers\n",
      "\n",
      "\n",
      "Loading required package: kableExtra\n",
      "\n",
      "corrplot 0.92 loaded\n",
      "\n",
      "\n",
      "Attaching package: 'e1071'\n",
      "\n",
      "\n",
      "The following objects are masked from 'package:moments':\n",
      "\n",
      "    kurtosis, moment, skewness\n",
      "\n",
      "\n",
      "Loading required package: sm\n",
      "\n",
      "Package 'sm', version 2.2-5.7: type help(sm) for summary information\n",
      "\n",
      "Loading required package: zoo\n",
      "\n",
      "\n",
      "Attaching package: 'zoo'\n",
      "\n",
      "\n",
      "The following objects are masked from 'package:base':\n",
      "\n",
      "    as.Date, as.Date.numeric\n",
      "\n",
      "\n",
      "-- \u001b[1mAttaching core tidyverse packages\u001b[22m ---------------------------------------------------------------- tidyverse 2.0.0 --\n",
      "\u001b[32mv\u001b[39m \u001b[34mdplyr    \u001b[39m 1.1.0     \u001b[32mv\u001b[39m \u001b[34mreadr    \u001b[39m 2.1.4\n",
      "\u001b[32mv\u001b[39m \u001b[34mforcats  \u001b[39m 1.0.0     \u001b[32mv\u001b[39m \u001b[34mstringr  \u001b[39m 1.5.0\n",
      "\u001b[32mv\u001b[39m \u001b[34mlubridate\u001b[39m 1.9.2     \u001b[32mv\u001b[39m \u001b[34mtibble   \u001b[39m 3.1.8\n",
      "\u001b[32mv\u001b[39m \u001b[34mpurrr    \u001b[39m 1.0.1     \u001b[32mv\u001b[39m \u001b[34mtidyr    \u001b[39m 1.3.0\n",
      "-- \u001b[1mConflicts\u001b[22m ---------------------------------------------------------------------------------- tidyverse_conflicts() --\n",
      "\u001b[31mx\u001b[39m \u001b[34mdplyr\u001b[39m::\u001b[32mfilter()\u001b[39m     masks \u001b[34mstats\u001b[39m::filter()\n",
      "\u001b[31mx\u001b[39m \u001b[34mdplyr\u001b[39m::\u001b[32mgroup_rows()\u001b[39m masks \u001b[34mkableExtra\u001b[39m::group_rows()\n",
      "\u001b[31mx\u001b[39m \u001b[34mdplyr\u001b[39m::\u001b[32mlag()\u001b[39m        masks \u001b[34mstats\u001b[39m::lag()\n",
      "\u001b[31mx\u001b[39m \u001b[34mlubridate\u001b[39m::\u001b[32mstamp()\u001b[39m  masks \u001b[34mcowplot\u001b[39m::stamp()\n",
      "\u001b[36mi\u001b[39m Use the conflicted package (\u001b[3m\u001b[34m<http://conflicted.r-lib.org/>\u001b[39m\u001b[23m) to force all conflicts to become errors\n",
      "Loading required package: carData\n",
      "\n",
      "\n",
      "Attaching package: 'car'\n",
      "\n",
      "\n",
      "The following object is masked from 'package:dplyr':\n",
      "\n",
      "    recode\n",
      "\n",
      "\n",
      "The following object is masked from 'package:purrr':\n",
      "\n",
      "    some\n",
      "\n",
      "\n"
     ]
    }
   ],
   "source": [
    ".libPaths('C:/Users/jkral/Desktop/skola/BI-PRS/libs') # change if needed\n",
    "library(performance)\n",
    "library(ggplot2)\n",
    "library(olsrr)\n",
    "library(eurostat)\n",
    "library(moments)\n",
    "library(cowplot)\n",
    "library(vtable)\n",
    "library(corrplot)\n",
    "library(e1071)  \n",
    "library(vioplot)\n",
    "library(see)\n",
    "library(tidyverse)\n",
    "library(car)\n",
    "\n",
    "options(width=160, repr.plot.width=11, repr.plot.height=7)"
   ]
  },
  {
   "cell_type": "code",
   "execution_count": 2,
   "id": "5a520390-72f4-4141-9cd1-fa3c0d5cc4c0",
   "metadata": {},
   "outputs": [],
   "source": [
    "#install.packages(\"tidyverse\", dependencies=T, lib='C:/Users/jkral/Desktop/skola/BI-PRS/libs')"
   ]
  },
  {
   "cell_type": "markdown",
   "id": "2436a75d-2e64-457a-91d5-5838d33a0e77",
   "metadata": {},
   "source": [
    "### Základní analýza dat ###\n",
    "Nejprve načteme data a zbavíme se řádků, ve kterých některá data chybí."
   ]
  },
  {
   "cell_type": "code",
   "execution_count": 3,
   "id": "14a4aa1d-12de-4a6d-a729-85c3a2998128",
   "metadata": {},
   "outputs": [
    {
     "data": {
      "text/html": [
       "<table class=\"dataframe\">\n",
       "<caption>A tibble: 6 × 6</caption>\n",
       "<thead>\n",
       "\t<tr><th scope=col>unit</th><th scope=col>sex</th><th scope=col>age</th><th scope=col>geo</th><th scope=col>time</th><th scope=col>values</th></tr>\n",
       "\t<tr><th scope=col>&lt;chr&gt;</th><th scope=col>&lt;chr&gt;</th><th scope=col>&lt;chr&gt;</th><th scope=col>&lt;chr&gt;</th><th scope=col>&lt;date&gt;</th><th scope=col>&lt;dbl&gt;</th></tr>\n",
       "</thead>\n",
       "<tbody>\n",
       "\t<tr><td>NR</td><td>F</td><td>TOTAL</td><td>AT   </td><td>2022-01-01</td><td>4553444</td></tr>\n",
       "\t<tr><td>NR</td><td>F</td><td>TOTAL</td><td>AT1  </td><td>2022-01-01</td><td>2000081</td></tr>\n",
       "\t<tr><td>NR</td><td>F</td><td>TOTAL</td><td>AT11 </td><td>2022-01-01</td><td> 151557</td></tr>\n",
       "\t<tr><td>NR</td><td>F</td><td>TOTAL</td><td>AT111</td><td>2022-01-01</td><td>  19074</td></tr>\n",
       "\t<tr><td>NR</td><td>F</td><td>TOTAL</td><td>AT112</td><td>2022-01-01</td><td>  83093</td></tr>\n",
       "\t<tr><td>NR</td><td>F</td><td>TOTAL</td><td>AT113</td><td>2022-01-01</td><td>  49390</td></tr>\n",
       "</tbody>\n",
       "</table>\n"
      ],
      "text/latex": [
       "A tibble: 6 × 6\n",
       "\\begin{tabular}{llllll}\n",
       " unit & sex & age & geo & time & values\\\\\n",
       " <chr> & <chr> & <chr> & <chr> & <date> & <dbl>\\\\\n",
       "\\hline\n",
       "\t NR & F & TOTAL & AT    & 2022-01-01 & 4553444\\\\\n",
       "\t NR & F & TOTAL & AT1   & 2022-01-01 & 2000081\\\\\n",
       "\t NR & F & TOTAL & AT11  & 2022-01-01 &  151557\\\\\n",
       "\t NR & F & TOTAL & AT111 & 2022-01-01 &   19074\\\\\n",
       "\t NR & F & TOTAL & AT112 & 2022-01-01 &   83093\\\\\n",
       "\t NR & F & TOTAL & AT113 & 2022-01-01 &   49390\\\\\n",
       "\\end{tabular}\n"
      ],
      "text/markdown": [
       "\n",
       "A tibble: 6 × 6\n",
       "\n",
       "| unit &lt;chr&gt; | sex &lt;chr&gt; | age &lt;chr&gt; | geo &lt;chr&gt; | time &lt;date&gt; | values &lt;dbl&gt; |\n",
       "|---|---|---|---|---|---|\n",
       "| NR | F | TOTAL | AT    | 2022-01-01 | 4553444 |\n",
       "| NR | F | TOTAL | AT1   | 2022-01-01 | 2000081 |\n",
       "| NR | F | TOTAL | AT11  | 2022-01-01 |  151557 |\n",
       "| NR | F | TOTAL | AT111 | 2022-01-01 |   19074 |\n",
       "| NR | F | TOTAL | AT112 | 2022-01-01 |   83093 |\n",
       "| NR | F | TOTAL | AT113 | 2022-01-01 |   49390 |\n",
       "\n"
      ],
      "text/plain": [
       "  unit sex age   geo   time       values \n",
       "1 NR   F   TOTAL AT    2022-01-01 4553444\n",
       "2 NR   F   TOTAL AT1   2022-01-01 2000081\n",
       "3 NR   F   TOTAL AT11  2022-01-01  151557\n",
       "4 NR   F   TOTAL AT111 2022-01-01   19074\n",
       "5 NR   F   TOTAL AT112 2022-01-01   83093\n",
       "6 NR   F   TOTAL AT113 2022-01-01   49390"
      ]
     },
     "metadata": {},
     "output_type": "display_data"
    }
   ],
   "source": [
    "data <- get_eurostat('demo_r_pjanaggr3')\n",
    "data <- na.omit(data)\n",
    "head(data)"
   ]
  },
  {
   "cell_type": "markdown",
   "id": "eae8a77a-8573-4a79-8d88-bb555a7ee189",
   "metadata": {},
   "source": [
    "Z dat vyberem pouze ty, která se vztahují k NUTS3 regionům v Nizozemsku. Z nich dále vybereme pouze ta, která jsou z roku 2021 a je známý věk obyvatel. Také můžeme rovnou odstranit sloupce unit a time, jelikož time bude vždy 2021 a unit bude vždy počet lidí."
   ]
  },
  {
   "cell_type": "code",
   "execution_count": 4,
   "id": "18c45784-abce-4407-89d2-e96cd22eae1d",
   "metadata": {},
   "outputs": [
    {
     "data": {
      "text/html": [
       "<table class=\"dataframe\">\n",
       "<caption>A tibble: 6 × 4</caption>\n",
       "<thead>\n",
       "\t<tr><th scope=col>sex</th><th scope=col>age</th><th scope=col>geo</th><th scope=col>values</th></tr>\n",
       "\t<tr><th scope=col>&lt;fct&gt;</th><th scope=col>&lt;fct&gt;</th><th scope=col>&lt;chr&gt;</th><th scope=col>&lt;dbl&gt;</th></tr>\n",
       "</thead>\n",
       "<tbody>\n",
       "\t<tr><td>F</td><td>TOTAL</td><td>NL111</td><td> 68059</td></tr>\n",
       "\t<tr><td>F</td><td>TOTAL</td><td>NL112</td><td> 22746</td></tr>\n",
       "\t<tr><td>F</td><td>TOTAL</td><td>NL113</td><td>202771</td></tr>\n",
       "\t<tr><td>F</td><td>TOTAL</td><td>NL124</td><td>160110</td></tr>\n",
       "\t<tr><td>F</td><td>TOTAL</td><td>NL125</td><td> 70427</td></tr>\n",
       "\t<tr><td>F</td><td>TOTAL</td><td>NL126</td><td> 94110</td></tr>\n",
       "</tbody>\n",
       "</table>\n"
      ],
      "text/latex": [
       "A tibble: 6 × 4\n",
       "\\begin{tabular}{llll}\n",
       " sex & age & geo & values\\\\\n",
       " <fct> & <fct> & <chr> & <dbl>\\\\\n",
       "\\hline\n",
       "\t F & TOTAL & NL111 &  68059\\\\\n",
       "\t F & TOTAL & NL112 &  22746\\\\\n",
       "\t F & TOTAL & NL113 & 202771\\\\\n",
       "\t F & TOTAL & NL124 & 160110\\\\\n",
       "\t F & TOTAL & NL125 &  70427\\\\\n",
       "\t F & TOTAL & NL126 &  94110\\\\\n",
       "\\end{tabular}\n"
      ],
      "text/markdown": [
       "\n",
       "A tibble: 6 × 4\n",
       "\n",
       "| sex &lt;fct&gt; | age &lt;fct&gt; | geo &lt;chr&gt; | values &lt;dbl&gt; |\n",
       "|---|---|---|---|\n",
       "| F | TOTAL | NL111 |  68059 |\n",
       "| F | TOTAL | NL112 |  22746 |\n",
       "| F | TOTAL | NL113 | 202771 |\n",
       "| F | TOTAL | NL124 | 160110 |\n",
       "| F | TOTAL | NL125 |  70427 |\n",
       "| F | TOTAL | NL126 |  94110 |\n",
       "\n"
      ],
      "text/plain": [
       "  sex age   geo   values\n",
       "1 F   TOTAL NL111  68059\n",
       "2 F   TOTAL NL112  22746\n",
       "3 F   TOTAL NL113 202771\n",
       "4 F   TOTAL NL124 160110\n",
       "5 F   TOTAL NL125  70427\n",
       "6 F   TOTAL NL126  94110"
      ]
     },
     "metadata": {},
     "output_type": "display_data"
    },
    {
     "data": {
      "text/html": [
       "<table class=\"dataframe\">\n",
       "<caption>A tibble: 6 × 4</caption>\n",
       "<thead>\n",
       "\t<tr><th scope=col>sex</th><th scope=col>age</th><th scope=col>geo</th><th scope=col>values</th></tr>\n",
       "\t<tr><th scope=col>&lt;fct&gt;</th><th scope=col>&lt;fct&gt;</th><th scope=col>&lt;chr&gt;</th><th scope=col>&lt;dbl&gt;</th></tr>\n",
       "</thead>\n",
       "<tbody>\n",
       "\t<tr><td>M</td><td>Y_LT15</td><td>NL412</td><td>37997</td></tr>\n",
       "\t<tr><td>M</td><td>Y_LT15</td><td>NL413</td><td>51019</td></tr>\n",
       "\t<tr><td>M</td><td>Y_LT15</td><td>NL414</td><td>59740</td></tr>\n",
       "\t<tr><td>M</td><td>Y_LT15</td><td>NL421</td><td>20318</td></tr>\n",
       "\t<tr><td>M</td><td>Y_LT15</td><td>NL422</td><td>15802</td></tr>\n",
       "\t<tr><td>M</td><td>Y_LT15</td><td>NL423</td><td>36724</td></tr>\n",
       "</tbody>\n",
       "</table>\n"
      ],
      "text/latex": [
       "A tibble: 6 × 4\n",
       "\\begin{tabular}{llll}\n",
       " sex & age & geo & values\\\\\n",
       " <fct> & <fct> & <chr> & <dbl>\\\\\n",
       "\\hline\n",
       "\t M & Y\\_LT15 & NL412 & 37997\\\\\n",
       "\t M & Y\\_LT15 & NL413 & 51019\\\\\n",
       "\t M & Y\\_LT15 & NL414 & 59740\\\\\n",
       "\t M & Y\\_LT15 & NL421 & 20318\\\\\n",
       "\t M & Y\\_LT15 & NL422 & 15802\\\\\n",
       "\t M & Y\\_LT15 & NL423 & 36724\\\\\n",
       "\\end{tabular}\n"
      ],
      "text/markdown": [
       "\n",
       "A tibble: 6 × 4\n",
       "\n",
       "| sex &lt;fct&gt; | age &lt;fct&gt; | geo &lt;chr&gt; | values &lt;dbl&gt; |\n",
       "|---|---|---|---|\n",
       "| M | Y_LT15 | NL412 | 37997 |\n",
       "| M | Y_LT15 | NL413 | 51019 |\n",
       "| M | Y_LT15 | NL414 | 59740 |\n",
       "| M | Y_LT15 | NL421 | 20318 |\n",
       "| M | Y_LT15 | NL422 | 15802 |\n",
       "| M | Y_LT15 | NL423 | 36724 |\n",
       "\n"
      ],
      "text/plain": [
       "  sex age    geo   values\n",
       "1 M   Y_LT15 NL412 37997 \n",
       "2 M   Y_LT15 NL413 51019 \n",
       "3 M   Y_LT15 NL414 59740 \n",
       "4 M   Y_LT15 NL421 20318 \n",
       "5 M   Y_LT15 NL422 15802 \n",
       "6 M   Y_LT15 NL423 36724 "
      ]
     },
     "metadata": {},
     "output_type": "display_data"
    }
   ],
   "source": [
    "df <- subset(data, grepl(\"NL\", geo) & nchar(geo) == 5) # vytáhne data, kde je NL a délka geo je 5\n",
    "df$time <- format(df$time, '%Y')\n",
    "df <- df[df$sex %in% c('M','F'),]\n",
    "df$sex <- factor(df$sex)\n",
    "df <- df[df$time == 2021,]\n",
    "df <- df[df$age != \"UNK\",] # removeing unknown age from dataset\n",
    "age_order <- c(\"TOTAL\", \"Y_GE65\", \"Y15-64\", \"Y_LT15\")\n",
    "df$age <- factor(df$age, levels=age_order)\n",
    "df$unit <- NULL\n",
    "df$time <- NULL\n",
    "head(df)\n",
    "tail(df)"
   ]
  },
  {
   "cell_type": "markdown",
   "id": "d3482eec-4853-4276-b01e-39de90e0beae",
   "metadata": {},
   "source": [
    "Nyní se podíváme na souhrnné informace o datech."
   ]
  },
  {
   "cell_type": "code",
   "execution_count": 5,
   "id": "192f4517-523d-43e0-b984-d39aca055529",
   "metadata": {},
   "outputs": [
    {
     "data": {
      "text/plain": [
       " sex         age         geo                values      \n",
       " F:160   TOTAL :80   Length:320         Min.   :  3100  \n",
       " M:160   Y_GE65:80   Class :character   1st Qu.: 28297  \n",
       "         Y15-64:80   Mode  :character   Median : 65874  \n",
       "         Y_LT15:80                      Mean   :109221  \n",
       "                                        3rd Qu.:126256  \n",
       "                                        Max.   :741584  "
      ]
     },
     "metadata": {},
     "output_type": "display_data"
    }
   ],
   "source": [
    "summary(df)"
   ]
  },
  {
   "cell_type": "markdown",
   "id": "d743bb2b-b5d1-49b1-8e18-587922c95f63",
   "metadata": {},
   "source": [
    "Vidíme, že v datech je 320 záznamů, přičemž unikátních regionů je 40, jelikož jsou dvě pohlaví a jsou 4 věkové kategorie.\n",
    "Největší kraj má 741 584 obyvatel, zatímco nejmenší má podle dat 3100, což je opravdu velký rozdíl. K tomuto jsme došli po odstranění neznámých hodnot z věku. \n",
    "Nyní se podíváme grafy zobrazjící populaci na základě regionu a poté na základě pohlaví a věku."
   ]
  },
  {
   "cell_type": "code",
   "execution_count": 6,
   "id": "3a3904c9-bae5-4886-9fb8-1a64319da820",
   "metadata": {},
   "outputs": [
    {
     "data": {
      "image/png": "[encoded data removed]",
      "text/plain": [
       "plot without title"
      ]
     },
     "metadata": {
      "image/png": {
       "height": 420,
       "width": 660
      }
     },
     "output_type": "display_data"
    }
   ],
   "source": [
    "# population based on region\n",
    "temp <- df[df$age == \"TOTAL\",]\n",
    "ggplot(temp, aes(x=geo, y=values, color=sex)) +\n",
    "    geom_point() +\n",
    "    scale_y_continuous(labels=scales::label_number(scale = 1))"
   ]
  },
  {
   "cell_type": "markdown",
   "id": "3ccffd2c-b1a0-4e11-8c06-cefa9c3ea4ef",
   "metadata": {},
   "source": [
    "Z grafu výše vidíme, že ve všech nejlidnatějších krajích je více žen než mužů, zatímco u méně lidnatých krajů jsou tato dvě čísla prakticky shodná. Nyní se podíváme na rozložení počtu obyvatel podle jednotlivých pohlaví."
   ]
  },
  {
   "cell_type": "code",
   "execution_count": 7,
   "id": "b872bcaf-4e80-4f88-ac1e-df072ffda6ba",
   "metadata": {},
   "outputs": [
    {
     "data": {
      "image/png": "[encoded data removed]",
      "text/plain": [
       "plot without title"
      ]
     },
     "metadata": {
      "image/png": {
       "height": 420,
       "width": 660
      }
     },
     "output_type": "display_data"
    }
   ],
   "source": [
    "# show boxplot of number of citizens in regions based on sex\n",
    "temp <- df[df$age == \"TOTAL\",]\n",
    "ggplot(temp, aes(x=values, y=sex, color=sex)) +\n",
    "        geom_boxplot(outlier.color=\"red\", show.legend=T) + \n",
    "        scale_x_continuous(labels=scales::label_number(scale = 1)) + \n",
    "        labs(x=\"Number of citizens\")"
   ]
  },
  {
   "cell_type": "markdown",
   "id": "f2cb7d2a-8b95-4e41-9440-6ccf5b60ad57",
   "metadata": {},
   "source": [
    "Nyní se podíváme ještě na violin plot toho samého."
   ]
  },
  {
   "cell_type": "code",
   "execution_count": 8,
   "id": "f723aea4-2108-4afc-9473-3dc7d2b36d80",
   "metadata": {},
   "outputs": [
    {
     "data": {
      "image/png": "[encoded data removed]",
      "text/plain": [
       "plot without title"
      ]
     },
     "metadata": {
      "image/png": {
       "height": 420,
       "width": 660
      }
     },
     "output_type": "display_data"
    }
   ],
   "source": [
    "# violin plot of number of citizens based on sex\n",
    "ggplot(temp, aes(x=\"\", y=values, fill=sex)) +\n",
    "        geom_violinhalf(data = temp %>% filter(sex==\"M\")) +\n",
    "        geom_violinhalf(data = temp %>% filter(sex==\"F\"), flip=TRUE) + \n",
    "        scale_y_continuous(labels=scales::label_number(scale = 1)) + \n",
    "        labs(y=\"Number of citizens\", x=\"Number of regions\")"
   ]
  },
  {
   "cell_type": "markdown",
   "id": "c003f009-dbb0-42ed-ac3e-793158107858",
   "metadata": {},
   "source": [
    "Z grafů výše je vidět, že průměrné počty mužů a žen jsou v krajích prakticky stejné."
   ]
  },
  {
   "cell_type": "markdown",
   "id": "31af2e14-ce77-416e-b276-050303eb4a13",
   "metadata": {},
   "source": [
    "Dále zjistíme, jaké je rozložení jednotlivých věkových kategorií."
   ]
  },
  {
   "cell_type": "code",
   "execution_count": 9,
   "id": "9861af74-d92c-4677-97db-4d416ed5c13e",
   "metadata": {},
   "outputs": [
    {
     "data": {
      "image/png": "[encoded data removed]",
      "text/plain": [
       "plot without title"
      ]
     },
     "metadata": {
      "image/png": {
       "height": 420,
       "width": 660
      }
     },
     "output_type": "display_data"
    }
   ],
   "source": [
    "ggplot(df, aes(x=values, y=age, color=sex)) +\n",
    "        geom_boxplot(outlier.color=\"red\", show.legend=T) + \n",
    "        scale_x_continuous(labels=scales::label_number(scale = 1))"
   ]
  },
  {
   "cell_type": "markdown",
   "id": "20b277e5-f6b3-460b-a6d2-d1a1c09d1ccf",
   "metadata": {},
   "source": [
    "Z grafů výše je vidět, že jsou asi tři kraje, ve kterých je mnohem více obyvatel než ve zbylých krajích. Tato statistika neodpovídá pouze u věkové skupiny nad 65 let, což bude způsobeno pravděpodobně větší úmrtností této věkové skupiny."
   ]
  },
  {
   "cell_type": "markdown",
   "id": "8c55e3d2-a5b9-48f4-9e9f-0a1e7a60d6ac",
   "metadata": {},
   "source": [
    "Nyní provedeme na datech Shapiro-Wilkův test normality, abychom zjistili, zda jsou data normálně rozdělená a které testy na nich přípdaně můžeme později provádět."
   ]
  },
  {
   "cell_type": "code",
   "execution_count": 10,
   "id": "4735eb5e-c67d-4dd8-9683-a0381c441cb7",
   "metadata": {},
   "outputs": [
    {
     "data": {
      "text/plain": [
       "\n",
       "\tShapiro-Wilk normality test\n",
       "\n",
       "data:  df[df$age == \"TOTAL\", ]$values\n",
       "W = 0.80544, p-value = 6.772e-09\n"
      ]
     },
     "metadata": {},
     "output_type": "display_data"
    }
   ],
   "source": [
    "shapiro.test(df[df$age == \"TOTAL\",]$values)"
   ]
  },
  {
   "cell_type": "markdown",
   "id": "12cb2f48-969b-47de-b643-a1e550d87e04",
   "metadata": {},
   "source": [
    "Na základě Shapiro-Wilkova testu zamítáme hypotézu, že data jsou z normálního rozdělení, nemůžeme tedy nad daty používat testy, které normalitu rozdělení vyžadují."
   ]
  },
  {
   "cell_type": "markdown",
   "id": "14858283-495b-4d4d-b7fb-8266b6908e03",
   "metadata": {},
   "source": [
    "### Hypotézy ###"
   ]
  },
  {
   "cell_type": "markdown",
   "id": "768294b3-b937-4adf-bcb3-aa54e4bb7a20",
   "metadata": {},
   "source": [
    "#### Hypotéza 1 ####\n",
    "Hypotéza: Rozdělení obyvatel v krajích je v Nizozemsku stejné jako u nás.\n",
    "Alternativa: V Nizozemsku mají jiné rozdělení.\n",
    "Ke zkoumání použijeme K-S test, jelikož ten zkoumá, zda jsou dva výběry ze stejného rozdělení."
   ]
  },
  {
   "cell_type": "code",
   "execution_count": 11,
   "id": "2860ff02-e725-4e2f-8207-597d2e969e37",
   "metadata": {},
   "outputs": [],
   "source": [
    "# get data for czech regions\n",
    "cz <- subset(data, grepl(\"CZ\", geo) & nchar(geo) == 5) # vytáhne data, kde je NL a délka geo je 5\n",
    "cz$time <- format(cz$time, '%Y')\n",
    "cz <- cz[cz$sex %in% c('M','F'),]\n",
    "cz$sex <- factor(cz$sex)\n",
    "cz <- cz[cz$time == 2021,]\n",
    "cz <- cz[cz$age != \"UNK\",]\n",
    "cz$age <- factor(cz$age)\n",
    "cz$unit <- NULL\n",
    "cz$time <- NULL"
   ]
  },
  {
   "cell_type": "code",
   "execution_count": 12,
   "id": "6957fa62-1956-4a1b-ad81-dc1bd9efeacb",
   "metadata": {},
   "outputs": [
    {
     "data": {
      "text/plain": [
       "\n",
       "\tTwo-sample Kolmogorov-Smirnov test\n",
       "\n",
       "data:  df$values and cz$values\n",
       "D = 0.30223, p-value = 5.232e-07\n",
       "alternative hypothesis: two-sided\n"
      ]
     },
     "metadata": {},
     "output_type": "display_data"
    }
   ],
   "source": [
    "ks.test(df$values, cz$values, alternative=\"two.sided\")"
   ]
  },
  {
   "cell_type": "markdown",
   "id": "015adcf9-394d-4e45-8a15-2da3b7d77c1c",
   "metadata": {},
   "source": [
    "Na základě Kolmogorov-Smirnova testu zamítáme hypotézu na úrovni 5 % (zamítli bychom i na nižších úrovních), že kraje v Nizozemsku a kraje v Česku mají stejné počty obyvatel. Z čehož vyplývá, že počty počty obyvatel v krajích jsou výrazně odlišné."
   ]
  },
  {
   "cell_type": "markdown",
   "id": "9baa7f39-b852-43ba-b023-6dd430b3c8c0",
   "metadata": {},
   "source": [
    "Nyní si vyzualizujeme oba výběry."
   ]
  },
  {
   "cell_type": "code",
   "execution_count": 13,
   "id": "0c8875cd-cd37-4175-8348-642f9497cd96",
   "metadata": {},
   "outputs": [
    {
     "data": {
      "image/png": "[encoded data removed]",
      "text/plain": [
       "plot without title"
      ]
     },
     "metadata": {
      "image/png": {
       "height": 420,
       "width": 660
      }
     },
     "output_type": "display_data"
    }
   ],
   "source": [
    "both <- data.frame(values=c(df[df$age==\"TOTAL\",]$values, cz[cz$age==\"TOTAL\",]$values),\n",
    "                  group = rep(c(\"nl\", \"cz\"), c(length(df[df$age==\"TOTAL\",]$values), length(cz[cz$age==\"TOTAL\",]$values))))\n",
    "ggplot(both, aes(x=values, fill=group)) +\n",
    "  geom_histogram(alpha=0.5, position=\"identity\", bins=20) +\n",
    "  labs(x=\"Number of citizens\", y=\"Number of regions\") + \n",
    "    scale_x_continuous(labels=scales::label_number(scale = 1))"
   ]
  },
  {
   "cell_type": "markdown",
   "id": "3fce4488-1e45-42dd-b2cb-8c06d30e3b06",
   "metadata": {},
   "source": [
    "Graf se shoduje s výsledky testu, v Nizozemsku je očividně více malých krajů."
   ]
  },
  {
   "cell_type": "markdown",
   "id": "7e1b49bd-bb9c-4307-9ed0-991f1f9e4084",
   "metadata": {},
   "source": [
    "#### Hypotéza 2 ####\n",
    "Hypotéza: V Nizozemsku je stejný poměr dětí jako v Srbsku. \n",
    "Alternativně je poměr dětí v Srbsku a Nizozemsku rozdílný."
   ]
  },
  {
   "cell_type": "markdown",
   "id": "c3f9736f-fc4d-40a6-bec2-01e7132283c3",
   "metadata": {},
   "source": [
    "Uděláme dataset pro Srbsko podobně jako pro Nizozemsko výše."
   ]
  },
  {
   "cell_type": "code",
   "execution_count": 14,
   "id": "fd449139-5db8-48d8-a5f1-5c0b0f523176",
   "metadata": {},
   "outputs": [],
   "source": [
    "rs <- subset(data, grepl(\"RS\", geo) & nchar(geo) == 5)\n",
    "rs$time <- format(rs$time, '%Y')\n",
    "rs <- rs[rs$sex %in% c('M','F'),]\n",
    "rs$sex <- factor(rs$sex)\n",
    "rs <- rs[rs$time == 2021,]\n",
    "rs <- rs[rs$age != \"UNK\",]\n",
    "rs$age <- factor(rs$age)\n",
    "rs$unit <- NULL\n",
    "rs$time <- NULL"
   ]
  },
  {
   "cell_type": "markdown",
   "id": "3b817c98-59d9-437f-8b74-501185c0bcb0",
   "metadata": {},
   "source": [
    "Spočítáme podíl dětí v obyvatelstvu regionů obou zemí."
   ]
  },
  {
   "cell_type": "code",
   "execution_count": 15,
   "id": "e6c8945d-fe8c-48b4-bcd4-6cbc346a4503",
   "metadata": {},
   "outputs": [],
   "source": [
    "nether_kids <- df[df$age==\"Y_LT15\",]$values / df[df$age == \"TOTAL\",]$values\n",
    "serbia_kids <- rs[rs$age==\"Y_LT15\",]$values / rs[rs$age == \"TOTAL\",]$values"
   ]
  },
  {
   "cell_type": "markdown",
   "id": "b9f96c9d-3a5d-4044-8164-2005ca04ad5c",
   "metadata": {},
   "source": [
    "Pomocí Wilcoxonova testu zkusíme zjistit, zda jsou poměry statisticky významně odlišné."
   ]
  },
  {
   "cell_type": "code",
   "execution_count": 16,
   "id": "b7bb74ba-b332-48e4-b39f-fb6bae1bf8d6",
   "metadata": {},
   "outputs": [
    {
     "data": {
      "text/plain": [
       "\n",
       "\tWilcoxon rank sum test with continuity correction\n",
       "\n",
       "data:  nether_kids and serbia_kids\n",
       "W = 3285, p-value = 7.899e-10\n",
       "alternative hypothesis: true location shift is not equal to 0\n"
      ]
     },
     "metadata": {},
     "output_type": "display_data"
    }
   ],
   "source": [
    "wilcox.test(nether_kids, serbia_kids, \"two.sided\")"
   ]
  },
  {
   "cell_type": "markdown",
   "id": "135a556e-e5b3-4cbe-bf8d-57bcf1c9f81b",
   "metadata": {},
   "source": [
    "Na základě Wilcoxova testu zamítáme hypotézu, že je v nizozemských krajích stejný poměr dětí jako v srbských krajích na úrovni 5 % ve prospěch alternativy, že podíly dětí jsou různé."
   ]
  },
  {
   "cell_type": "markdown",
   "id": "4389d5e3-d61b-4df0-8266-e16f86bc139c",
   "metadata": {},
   "source": [
    "Nyní se podíváme na graf podílů dětí v regionech Srbska a Nizozemska."
   ]
  },
  {
   "cell_type": "code",
   "execution_count": 17,
   "id": "567d31e2-c587-432c-89cd-8cf8a101fcfb",
   "metadata": {},
   "outputs": [
    {
     "data": {
      "image/png": "[encoded data removed]",
      "text/plain": [
       "plot without title"
      ]
     },
     "metadata": {
      "image/png": {
       "height": 420,
       "width": 660
      }
     },
     "output_type": "display_data"
    }
   ],
   "source": [
    "kids <- data.frame(values=c(nether_kids, serbia_kids),\n",
    "                  group = rep(c(\"Netherlands\", \"Serbia\"), c(length(nether_kids), length(serbia_kids))))\n",
    "ggplot(kids, aes(x=values, fill=group)) +\n",
    "  geom_histogram(alpha=0.5, position=\"identity\", bins=20) +\n",
    "  labs(x=\"Child ratio\", y=\"Number of regions\") + \n",
    "    scale_x_continuous(labels=scales::label_number(scale = 1))"
   ]
  },
  {
   "cell_type": "markdown",
   "id": "4d23ff74-ef00-4057-9e94-34ffaad058c5",
   "metadata": {},
   "source": [
    "Z grafu je vidět, že v Nizozemsku je viditelně vyšší poměr dětí v obyvatelstvu, což není v rozporu s výše provedeným testem."
   ]
  },
  {
   "cell_type": "markdown",
   "id": "d4cbe198-3733-4bab-bbd5-c5bdaaeba433",
   "metadata": {},
   "source": [
    "#### Hypotéza 3 ####\n",
    "Chceme otestovat, zda má pohlaví seniorů vliv na jejich počet (dalo by se předpokládat, že žen bude o něco vícě, protože mají obecně vyšší věk dožití) nebo zda jsou tyto počty na pohlaví nezávislé.\n",
    "Hypotéza: Mezi pohlavím a počtem seniorů není silná korelace. Alternativně je silná korelace mezi pohlavím a počtem seniorů."
   ]
  },
  {
   "cell_type": "code",
   "execution_count": 18,
   "id": "de6679cf-ab57-46d2-bb72-4f6a6d2b016a",
   "metadata": {},
   "outputs": [
    {
     "data": {
      "text/plain": [
       "\n",
       "\tPearson's product-moment correlation\n",
       "\n",
       "data:  seniors$sex and seniors$values\n",
       "t = -0.91773, df = 78, p-value = 0.3616\n",
       "alternative hypothesis: true correlation is not equal to 0\n",
       "95 percent confidence interval:\n",
       " -0.3158995  0.1190643\n",
       "sample estimates:\n",
       "       cor \n",
       "-0.1033564 \n"
      ]
     },
     "metadata": {},
     "output_type": "display_data"
    }
   ],
   "source": [
    "seniors = df[df$age == \"Y_GE65\",]\n",
    "seniors$sex <- as.numeric(seniors$sex) # males = 2, females = 1\n",
    "cor.test(seniors$sex, seniors$values)"
   ]
  },
  {
   "cell_type": "markdown",
   "id": "29b506c6-bccc-49de-919c-87fbd9c8cd34",
   "metadata": {},
   "source": [
    "Na základě výsledku testu nezamítáme nulovou hypotézu na úrovni pěti procent, že počet seniorů nezávisí na pohlaví. Tedy je podobný počet mužů seniorů a žen seniorek. Možná by se dalo mluvit o slabé záporné korelaci (-0,1), což by znamenalo, že je o trochu více žen než mužů starších 64 let, jelikož ženy mají číslo 1 a muži číslo 2 přiřazené funkcí as.numeric()."
   ]
  },
  {
   "cell_type": "markdown",
   "id": "da638447-663a-4c0d-ad8b-870f607858cf",
   "metadata": {},
   "source": [
    "### Kontingenční tabulka ###\n",
    "Nyní vytvoříme kontingenční tabulku obsahující počty obyvatel v krajích a jejich pohlaví."
   ]
  },
  {
   "cell_type": "code",
   "execution_count": 19,
   "id": "b08000b1-829c-4305-a961-628941da33f6",
   "metadata": {},
   "outputs": [
    {
     "data": {
      "text/html": [
       "<table class=\"dataframe\">\n",
       "<caption>A table: 41 × 3 of type dbl</caption>\n",
       "<thead>\n",
       "\t<tr><th></th><th scope=col>males</th><th scope=col>females</th><th scope=col>Sum</th></tr>\n",
       "</thead>\n",
       "<tbody>\n",
       "\t<tr><th scope=row>NL111</th><td>  67780</td><td>  68059</td><td>  135839</td></tr>\n",
       "\t<tr><th scope=row>NL112</th><td>  22841</td><td>  22746</td><td>   45587</td></tr>\n",
       "\t<tr><th scope=row>NL113</th><td> 202740</td><td> 202771</td><td>  405511</td></tr>\n",
       "\t<tr><th scope=row>NL124</th><td> 161452</td><td> 160110</td><td>  321562</td></tr>\n",
       "\t<tr><th scope=row>NL125</th><td>  71350</td><td>  70427</td><td>  141777</td></tr>\n",
       "\t<tr><th scope=row>NL126</th><td>  93986</td><td>  94110</td><td>  188096</td></tr>\n",
       "\t<tr><th scope=row>NL131</th><td>  95701</td><td>  97107</td><td>  192808</td></tr>\n",
       "\t<tr><th scope=row>NL132</th><td>  83734</td><td>  84205</td><td>  167939</td></tr>\n",
       "\t<tr><th scope=row>NL133</th><td>  66592</td><td>  67432</td><td>  134024</td></tr>\n",
       "\t<tr><th scope=row>NL211</th><td> 189004</td><td> 188288</td><td>  377292</td></tr>\n",
       "\t<tr><th scope=row>NL212</th><td>  78389</td><td>  79119</td><td>  157508</td></tr>\n",
       "\t<tr><th scope=row>NL213</th><td> 318662</td><td> 313071</td><td>  631733</td></tr>\n",
       "\t<tr><th scope=row>NL221</th><td> 348174</td><td> 352801</td><td>  700975</td></tr>\n",
       "\t<tr><th scope=row>NL224</th><td> 124805</td><td> 123869</td><td>  248674</td></tr>\n",
       "\t<tr><th scope=row>NL225</th><td> 200625</td><td> 201614</td><td>  402239</td></tr>\n",
       "\t<tr><th scope=row>NL226</th><td> 367563</td><td> 377152</td><td>  744715</td></tr>\n",
       "\t<tr><th scope=row>NL230</th><td> 214301</td><td> 213925</td><td>  428226</td></tr>\n",
       "\t<tr><th scope=row>NL310</th><td> 670178</td><td> 690975</td><td> 1361153</td></tr>\n",
       "\t<tr><th scope=row>NL321</th><td> 190117</td><td> 189187</td><td>  379304</td></tr>\n",
       "\t<tr><th scope=row>NL323</th><td>  98955</td><td> 100434</td><td>  199389</td></tr>\n",
       "\t<tr><th scope=row>NL324</th><td> 112575</td><td> 118159</td><td>  230734</td></tr>\n",
       "\t<tr><th scope=row>NL325</th><td>  85845</td><td>  87389</td><td>  173234</td></tr>\n",
       "\t<tr><th scope=row>NL327</th><td> 126212</td><td> 132897</td><td>  259109</td></tr>\n",
       "\t<tr><th scope=row>NL328</th><td> 124091</td><td> 126386</td><td>  250477</td></tr>\n",
       "\t<tr><th scope=row>NL329</th><td> 690764</td><td> 705475</td><td> 1396239</td></tr>\n",
       "\t<tr><th scope=row>NL332</th><td> 438003</td><td> 449860</td><td>  887863</td></tr>\n",
       "\t<tr><th scope=row>NL333</th><td> 119955</td><td> 114422</td><td>  234377</td></tr>\n",
       "\t<tr><th scope=row>NL337</th><td> 212388</td><td> 219207</td><td>  431595</td></tr>\n",
       "\t<tr><th scope=row>NL33A</th><td> 184553</td><td> 188452</td><td>  373005</td></tr>\n",
       "\t<tr><th scope=row>NL33B</th><td> 167942</td><td> 169856</td><td>  337798</td></tr>\n",
       "\t<tr><th scope=row>NL33C</th><td> 719828</td><td> 741584</td><td> 1461412</td></tr>\n",
       "\t<tr><th scope=row>NL341</th><td>  52401</td><td>  52803</td><td>  105204</td></tr>\n",
       "\t<tr><th scope=row>NL342</th><td> 139023</td><td> 141173</td><td>  280196</td></tr>\n",
       "\t<tr><th scope=row>NL411</th><td> 316602</td><td> 320429</td><td>  637031</td></tr>\n",
       "\t<tr><th scope=row>NL412</th><td> 246165</td><td> 246839</td><td>  493004</td></tr>\n",
       "\t<tr><th scope=row>NL413</th><td> 330298</td><td> 329226</td><td>  659524</td></tr>\n",
       "\t<tr><th scope=row>NL414</th><td> 397793</td><td> 386597</td><td>  784390</td></tr>\n",
       "\t<tr><th scope=row>NL421</th><td> 142740</td><td> 140610</td><td>  283350</td></tr>\n",
       "\t<tr><th scope=row>NL422</th><td> 119364</td><td> 118904</td><td>  238268</td></tr>\n",
       "\t<tr><th scope=row>NL423</th><td> 293045</td><td> 301209</td><td>  594254</td></tr>\n",
       "\t<tr><th scope=row>Sum</th><td>8686536</td><td>8788879</td><td>17475415</td></tr>\n",
       "</tbody>\n",
       "</table>\n"
      ],
      "text/latex": [
       "A table: 41 × 3 of type dbl\n",
       "\\begin{tabular}{r|lll}\n",
       "  & males & females & Sum\\\\\n",
       "\\hline\n",
       "\tNL111 &   67780 &   68059 &   135839\\\\\n",
       "\tNL112 &   22841 &   22746 &    45587\\\\\n",
       "\tNL113 &  202740 &  202771 &   405511\\\\\n",
       "\tNL124 &  161452 &  160110 &   321562\\\\\n",
       "\tNL125 &   71350 &   70427 &   141777\\\\\n",
       "\tNL126 &   93986 &   94110 &   188096\\\\\n",
       "\tNL131 &   95701 &   97107 &   192808\\\\\n",
       "\tNL132 &   83734 &   84205 &   167939\\\\\n",
       "\tNL133 &   66592 &   67432 &   134024\\\\\n",
       "\tNL211 &  189004 &  188288 &   377292\\\\\n",
       "\tNL212 &   78389 &   79119 &   157508\\\\\n",
       "\tNL213 &  318662 &  313071 &   631733\\\\\n",
       "\tNL221 &  348174 &  352801 &   700975\\\\\n",
       "\tNL224 &  124805 &  123869 &   248674\\\\\n",
       "\tNL225 &  200625 &  201614 &   402239\\\\\n",
       "\tNL226 &  367563 &  377152 &   744715\\\\\n",
       "\tNL230 &  214301 &  213925 &   428226\\\\\n",
       "\tNL310 &  670178 &  690975 &  1361153\\\\\n",
       "\tNL321 &  190117 &  189187 &   379304\\\\\n",
       "\tNL323 &   98955 &  100434 &   199389\\\\\n",
       "\tNL324 &  112575 &  118159 &   230734\\\\\n",
       "\tNL325 &   85845 &   87389 &   173234\\\\\n",
       "\tNL327 &  126212 &  132897 &   259109\\\\\n",
       "\tNL328 &  124091 &  126386 &   250477\\\\\n",
       "\tNL329 &  690764 &  705475 &  1396239\\\\\n",
       "\tNL332 &  438003 &  449860 &   887863\\\\\n",
       "\tNL333 &  119955 &  114422 &   234377\\\\\n",
       "\tNL337 &  212388 &  219207 &   431595\\\\\n",
       "\tNL33A &  184553 &  188452 &   373005\\\\\n",
       "\tNL33B &  167942 &  169856 &   337798\\\\\n",
       "\tNL33C &  719828 &  741584 &  1461412\\\\\n",
       "\tNL341 &   52401 &   52803 &   105204\\\\\n",
       "\tNL342 &  139023 &  141173 &   280196\\\\\n",
       "\tNL411 &  316602 &  320429 &   637031\\\\\n",
       "\tNL412 &  246165 &  246839 &   493004\\\\\n",
       "\tNL413 &  330298 &  329226 &   659524\\\\\n",
       "\tNL414 &  397793 &  386597 &   784390\\\\\n",
       "\tNL421 &  142740 &  140610 &   283350\\\\\n",
       "\tNL422 &  119364 &  118904 &   238268\\\\\n",
       "\tNL423 &  293045 &  301209 &   594254\\\\\n",
       "\tSum & 8686536 & 8788879 & 17475415\\\\\n",
       "\\end{tabular}\n"
      ],
      "text/markdown": [
       "\n",
       "A table: 41 × 3 of type dbl\n",
       "\n",
       "| <!--/--> | males | females | Sum |\n",
       "|---|---|---|---|\n",
       "| NL111 |   67780 |   68059 |   135839 |\n",
       "| NL112 |   22841 |   22746 |    45587 |\n",
       "| NL113 |  202740 |  202771 |   405511 |\n",
       "| NL124 |  161452 |  160110 |   321562 |\n",
       "| NL125 |   71350 |   70427 |   141777 |\n",
       "| NL126 |   93986 |   94110 |   188096 |\n",
       "| NL131 |   95701 |   97107 |   192808 |\n",
       "| NL132 |   83734 |   84205 |   167939 |\n",
       "| NL133 |   66592 |   67432 |   134024 |\n",
       "| NL211 |  189004 |  188288 |   377292 |\n",
       "| NL212 |   78389 |   79119 |   157508 |\n",
       "| NL213 |  318662 |  313071 |   631733 |\n",
       "| NL221 |  348174 |  352801 |   700975 |\n",
       "| NL224 |  124805 |  123869 |   248674 |\n",
       "| NL225 |  200625 |  201614 |   402239 |\n",
       "| NL226 |  367563 |  377152 |   744715 |\n",
       "| NL230 |  214301 |  213925 |   428226 |\n",
       "| NL310 |  670178 |  690975 |  1361153 |\n",
       "| NL321 |  190117 |  189187 |   379304 |\n",
       "| NL323 |   98955 |  100434 |   199389 |\n",
       "| NL324 |  112575 |  118159 |   230734 |\n",
       "| NL325 |   85845 |   87389 |   173234 |\n",
       "| NL327 |  126212 |  132897 |   259109 |\n",
       "| NL328 |  124091 |  126386 |   250477 |\n",
       "| NL329 |  690764 |  705475 |  1396239 |\n",
       "| NL332 |  438003 |  449860 |   887863 |\n",
       "| NL333 |  119955 |  114422 |   234377 |\n",
       "| NL337 |  212388 |  219207 |   431595 |\n",
       "| NL33A |  184553 |  188452 |   373005 |\n",
       "| NL33B |  167942 |  169856 |   337798 |\n",
       "| NL33C |  719828 |  741584 |  1461412 |\n",
       "| NL341 |   52401 |   52803 |   105204 |\n",
       "| NL342 |  139023 |  141173 |   280196 |\n",
       "| NL411 |  316602 |  320429 |   637031 |\n",
       "| NL412 |  246165 |  246839 |   493004 |\n",
       "| NL413 |  330298 |  329226 |   659524 |\n",
       "| NL414 |  397793 |  386597 |   784390 |\n",
       "| NL421 |  142740 |  140610 |   283350 |\n",
       "| NL422 |  119364 |  118904 |   238268 |\n",
       "| NL423 |  293045 |  301209 |   594254 |\n",
       "| Sum | 8686536 | 8788879 | 17475415 |\n",
       "\n"
      ],
      "text/plain": [
       "      males   females Sum     \n",
       "NL111   67780   68059   135839\n",
       "NL112   22841   22746    45587\n",
       "NL113  202740  202771   405511\n",
       "NL124  161452  160110   321562\n",
       "NL125   71350   70427   141777\n",
       "NL126   93986   94110   188096\n",
       "NL131   95701   97107   192808\n",
       "NL132   83734   84205   167939\n",
       "NL133   66592   67432   134024\n",
       "NL211  189004  188288   377292\n",
       "NL212   78389   79119   157508\n",
       "NL213  318662  313071   631733\n",
       "NL221  348174  352801   700975\n",
       "NL224  124805  123869   248674\n",
       "NL225  200625  201614   402239\n",
       "NL226  367563  377152   744715\n",
       "NL230  214301  213925   428226\n",
       "NL310  670178  690975  1361153\n",
       "NL321  190117  189187   379304\n",
       "NL323   98955  100434   199389\n",
       "NL324  112575  118159   230734\n",
       "NL325   85845   87389   173234\n",
       "NL327  126212  132897   259109\n",
       "NL328  124091  126386   250477\n",
       "NL329  690764  705475  1396239\n",
       "NL332  438003  449860   887863\n",
       "NL333  119955  114422   234377\n",
       "NL337  212388  219207   431595\n",
       "NL33A  184553  188452   373005\n",
       "NL33B  167942  169856   337798\n",
       "NL33C  719828  741584  1461412\n",
       "NL341   52401   52803   105204\n",
       "NL342  139023  141173   280196\n",
       "NL411  316602  320429   637031\n",
       "NL412  246165  246839   493004\n",
       "NL413  330298  329226   659524\n",
       "NL414  397793  386597   784390\n",
       "NL421  142740  140610   283350\n",
       "NL422  119364  118904   238268\n",
       "NL423  293045  301209   594254\n",
       "Sum   8686536 8788879 17475415"
      ]
     },
     "metadata": {},
     "output_type": "display_data"
    }
   ],
   "source": [
    "males <- df[df$sex == \"M\" & df$age == \"TOTAL\",]$values\n",
    "females <- df[df$sex == \"F\" & df$age == \"TOTAL\",]$values\n",
    "df_vals <- cbind(males, females)\n",
    "rownames(df_vals) = unique(df$geo)\n",
    "df_ct <- as.table(df_vals)\n",
    "addmargins(df_ct)"
   ]
  },
  {
   "cell_type": "markdown",
   "id": "ba0b3da4-ba86-4b12-af33-b8ce8f753776",
   "metadata": {},
   "source": [
    "Z tabulky vychází, že v Nizozemsku je o zhruba 100 000 žen více než mužů. V nizozemsku také podle tabulky žije přibližně 17,5 milionů obyvatel, což je na rozlohu Nizozemska úctyhodný počet. Také to vypadá, že ve všech regionech je poměr žen a mužů téměř 1:1.\n",
    "Hypotéza: počet obyvatel je rozdělen nezávisle na regionu.\n",
    "Alternativa: počet obyvatel závisí na regionu.\n",
    "Pomocí Pearsonova Chi-kvadrát testu otestujeme tuto hypotézu."
   ]
  },
  {
   "cell_type": "code",
   "execution_count": 20,
   "id": "aa07439c-1c59-4e1d-abf0-6639b5c16ace",
   "metadata": {},
   "outputs": [
    {
     "data": {
      "text/plain": [
       "\n",
       "\tPearson's Chi-squared test\n",
       "\n",
       "data:  df_ct\n",
       "X-squared = 1577.7, df = 39, p-value < 2.2e-16\n"
      ]
     },
     "metadata": {},
     "output_type": "display_data"
    }
   ],
   "source": [
    "out <- chisq.test(df_ct)\n",
    "out"
   ]
  },
  {
   "cell_type": "markdown",
   "id": "d6bbd219-06d8-46a3-a4e3-ec0a1a8166db",
   "metadata": {},
   "source": [
    "Na základě Pearsonova Chi-kvadrát testu nezávislosti zamítáme hypotézu na úrovni 5 % o nezávislosti rozložení počtu obyvatel mezi regiony ve prospěch alternativy. Hypotézu bychom mohli zamítnout i na nižší úrovni, vzhledem k výsledné p-value."
   ]
  },
  {
   "cell_type": "markdown",
   "id": "725d5808-8280-4f67-be57-1eb1f1197b93",
   "metadata": {},
   "source": [
    "Nyní se podíváme na tabulku očakávaných hodnot."
   ]
  },
  {
   "cell_type": "code",
   "execution_count": 21,
   "id": "dcd3f67f-92e3-487a-a80b-1c45ff753a65",
   "metadata": {},
   "outputs": [
    {
     "data": {
      "text/html": [
       "<table class=\"dataframe\">\n",
       "<caption>A matrix: 41 × 3 of type dbl</caption>\n",
       "<thead>\n",
       "\t<tr><th></th><th scope=col>males</th><th scope=col>females</th><th scope=col>Sum</th></tr>\n",
       "</thead>\n",
       "<tbody>\n",
       "\t<tr><th scope=row>NL111</th><td>  67521.74</td><td>  68317.26</td><td>  135839</td></tr>\n",
       "\t<tr><th scope=row>NL112</th><td>  22660.01</td><td>  22926.99</td><td>   45587</td></tr>\n",
       "\t<tr><th scope=row>NL113</th><td> 201568.08</td><td> 203942.92</td><td>  405511</td></tr>\n",
       "\t<tr><th scope=row>NL124</th><td> 159839.40</td><td> 161722.60</td><td>  321562</td></tr>\n",
       "\t<tr><th scope=row>NL125</th><td>  70473.35</td><td>  71303.65</td><td>  141777</td></tr>\n",
       "\t<tr><th scope=row>NL126</th><td>  93497.22</td><td>  94598.78</td><td>  188096</td></tr>\n",
       "\t<tr><th scope=row>NL131</th><td>  95839.42</td><td>  96968.58</td><td>  192808</td></tr>\n",
       "\t<tr><th scope=row>NL132</th><td>  83477.74</td><td>  84461.26</td><td>  167939</td></tr>\n",
       "\t<tr><th scope=row>NL133</th><td>  66619.55</td><td>  67404.45</td><td>  134024</td></tr>\n",
       "\t<tr><th scope=row>NL211</th><td> 187541.21</td><td> 189750.79</td><td>  377292</td></tr>\n",
       "\t<tr><th scope=row>NL212</th><td>  78292.79</td><td>  79215.21</td><td>  157508</td></tr>\n",
       "\t<tr><th scope=row>NL213</th><td> 314016.66</td><td> 317716.34</td><td>  631733</td></tr>\n",
       "\t<tr><th scope=row>NL221</th><td> 348434.91</td><td> 352540.09</td><td>  700975</td></tr>\n",
       "\t<tr><th scope=row>NL224</th><td> 123608.83</td><td> 125065.17</td><td>  248674</td></tr>\n",
       "\t<tr><th scope=row>NL225</th><td> 199941.66</td><td> 202297.34</td><td>  402239</td></tr>\n",
       "\t<tr><th scope=row>NL226</th><td> 370176.83</td><td> 374538.17</td><td>  744715</td></tr>\n",
       "\t<tr><th scope=row>NL230</th><td> 212859.07</td><td> 215366.93</td><td>  428226</td></tr>\n",
       "\t<tr><th scope=row>NL310</th><td> 676590.77</td><td> 684562.23</td><td> 1361153</td></tr>\n",
       "\t<tr><th scope=row>NL321</th><td> 188541.32</td><td> 190762.68</td><td>  379304</td></tr>\n",
       "\t<tr><th scope=row>NL323</th><td>  99110.65</td><td> 100278.35</td><td>  199389</td></tr>\n",
       "\t<tr><th scope=row>NL324</th><td> 114691.36</td><td> 116042.64</td><td>  230734</td></tr>\n",
       "\t<tr><th scope=row>NL325</th><td>  86109.74</td><td>  87124.26</td><td>  173234</td></tr>\n",
       "\t<tr><th scope=row>NL327</th><td> 128795.78</td><td> 130313.22</td><td>  259109</td></tr>\n",
       "\t<tr><th scope=row>NL328</th><td> 124505.05</td><td> 125971.95</td><td>  250477</td></tr>\n",
       "\t<tr><th scope=row>NL329</th><td> 694031.03</td><td> 702207.97</td><td> 1396239</td></tr>\n",
       "\t<tr><th scope=row>NL332</th><td> 441331.66</td><td> 446531.34</td><td>  887863</td></tr>\n",
       "\t<tr><th scope=row>NL333</th><td> 116502.20</td><td> 117874.80</td><td>  234377</td></tr>\n",
       "\t<tr><th scope=row>NL337</th><td> 214533.70</td><td> 217061.30</td><td>  431595</td></tr>\n",
       "\t<tr><th scope=row>NL33A</th><td> 185410.27</td><td> 187594.73</td><td>  373005</td></tr>\n",
       "\t<tr><th scope=row>NL33B</th><td> 167909.86</td><td> 169888.14</td><td>  337798</td></tr>\n",
       "\t<tr><th scope=row>NL33C</th><td> 726426.69</td><td> 734985.31</td><td> 1461412</td></tr>\n",
       "\t<tr><th scope=row>NL341</th><td>  52293.94</td><td>  52910.06</td><td>  105204</td></tr>\n",
       "\t<tr><th scope=row>NL342</th><td> 139277.53</td><td> 140918.47</td><td>  280196</td></tr>\n",
       "\t<tr><th scope=row>NL411</th><td> 316650.15</td><td> 320380.85</td><td>  637031</td></tr>\n",
       "\t<tr><th scope=row>NL412</th><td> 245058.39</td><td> 247945.61</td><td>  493004</td></tr>\n",
       "\t<tr><th scope=row>NL413</th><td> 327830.78</td><td> 331693.22</td><td>  659524</td></tr>\n",
       "\t<tr><th scope=row>NL414</th><td> 389898.15</td><td> 394491.85</td><td>  784390</td></tr>\n",
       "\t<tr><th scope=row>NL421</th><td> 140845.29</td><td> 142504.71</td><td>  283350</td></tr>\n",
       "\t<tr><th scope=row>NL422</th><td> 118436.30</td><td> 119831.70</td><td>  238268</td></tr>\n",
       "\t<tr><th scope=row>NL423</th><td> 295386.91</td><td> 298867.09</td><td>  594254</td></tr>\n",
       "\t<tr><th scope=row>Sum</th><td>8686536.00</td><td>8788879.00</td><td>17475415</td></tr>\n",
       "</tbody>\n",
       "</table>\n"
      ],
      "text/latex": [
       "A matrix: 41 × 3 of type dbl\n",
       "\\begin{tabular}{r|lll}\n",
       "  & males & females & Sum\\\\\n",
       "\\hline\n",
       "\tNL111 &   67521.74 &   68317.26 &   135839\\\\\n",
       "\tNL112 &   22660.01 &   22926.99 &    45587\\\\\n",
       "\tNL113 &  201568.08 &  203942.92 &   405511\\\\\n",
       "\tNL124 &  159839.40 &  161722.60 &   321562\\\\\n",
       "\tNL125 &   70473.35 &   71303.65 &   141777\\\\\n",
       "\tNL126 &   93497.22 &   94598.78 &   188096\\\\\n",
       "\tNL131 &   95839.42 &   96968.58 &   192808\\\\\n",
       "\tNL132 &   83477.74 &   84461.26 &   167939\\\\\n",
       "\tNL133 &   66619.55 &   67404.45 &   134024\\\\\n",
       "\tNL211 &  187541.21 &  189750.79 &   377292\\\\\n",
       "\tNL212 &   78292.79 &   79215.21 &   157508\\\\\n",
       "\tNL213 &  314016.66 &  317716.34 &   631733\\\\\n",
       "\tNL221 &  348434.91 &  352540.09 &   700975\\\\\n",
       "\tNL224 &  123608.83 &  125065.17 &   248674\\\\\n",
       "\tNL225 &  199941.66 &  202297.34 &   402239\\\\\n",
       "\tNL226 &  370176.83 &  374538.17 &   744715\\\\\n",
       "\tNL230 &  212859.07 &  215366.93 &   428226\\\\\n",
       "\tNL310 &  676590.77 &  684562.23 &  1361153\\\\\n",
       "\tNL321 &  188541.32 &  190762.68 &   379304\\\\\n",
       "\tNL323 &   99110.65 &  100278.35 &   199389\\\\\n",
       "\tNL324 &  114691.36 &  116042.64 &   230734\\\\\n",
       "\tNL325 &   86109.74 &   87124.26 &   173234\\\\\n",
       "\tNL327 &  128795.78 &  130313.22 &   259109\\\\\n",
       "\tNL328 &  124505.05 &  125971.95 &   250477\\\\\n",
       "\tNL329 &  694031.03 &  702207.97 &  1396239\\\\\n",
       "\tNL332 &  441331.66 &  446531.34 &   887863\\\\\n",
       "\tNL333 &  116502.20 &  117874.80 &   234377\\\\\n",
       "\tNL337 &  214533.70 &  217061.30 &   431595\\\\\n",
       "\tNL33A &  185410.27 &  187594.73 &   373005\\\\\n",
       "\tNL33B &  167909.86 &  169888.14 &   337798\\\\\n",
       "\tNL33C &  726426.69 &  734985.31 &  1461412\\\\\n",
       "\tNL341 &   52293.94 &   52910.06 &   105204\\\\\n",
       "\tNL342 &  139277.53 &  140918.47 &   280196\\\\\n",
       "\tNL411 &  316650.15 &  320380.85 &   637031\\\\\n",
       "\tNL412 &  245058.39 &  247945.61 &   493004\\\\\n",
       "\tNL413 &  327830.78 &  331693.22 &   659524\\\\\n",
       "\tNL414 &  389898.15 &  394491.85 &   784390\\\\\n",
       "\tNL421 &  140845.29 &  142504.71 &   283350\\\\\n",
       "\tNL422 &  118436.30 &  119831.70 &   238268\\\\\n",
       "\tNL423 &  295386.91 &  298867.09 &   594254\\\\\n",
       "\tSum & 8686536.00 & 8788879.00 & 17475415\\\\\n",
       "\\end{tabular}\n"
      ],
      "text/markdown": [
       "\n",
       "A matrix: 41 × 3 of type dbl\n",
       "\n",
       "| <!--/--> | males | females | Sum |\n",
       "|---|---|---|---|\n",
       "| NL111 |   67521.74 |   68317.26 |   135839 |\n",
       "| NL112 |   22660.01 |   22926.99 |    45587 |\n",
       "| NL113 |  201568.08 |  203942.92 |   405511 |\n",
       "| NL124 |  159839.40 |  161722.60 |   321562 |\n",
       "| NL125 |   70473.35 |   71303.65 |   141777 |\n",
       "| NL126 |   93497.22 |   94598.78 |   188096 |\n",
       "| NL131 |   95839.42 |   96968.58 |   192808 |\n",
       "| NL132 |   83477.74 |   84461.26 |   167939 |\n",
       "| NL133 |   66619.55 |   67404.45 |   134024 |\n",
       "| NL211 |  187541.21 |  189750.79 |   377292 |\n",
       "| NL212 |   78292.79 |   79215.21 |   157508 |\n",
       "| NL213 |  314016.66 |  317716.34 |   631733 |\n",
       "| NL221 |  348434.91 |  352540.09 |   700975 |\n",
       "| NL224 |  123608.83 |  125065.17 |   248674 |\n",
       "| NL225 |  199941.66 |  202297.34 |   402239 |\n",
       "| NL226 |  370176.83 |  374538.17 |   744715 |\n",
       "| NL230 |  212859.07 |  215366.93 |   428226 |\n",
       "| NL310 |  676590.77 |  684562.23 |  1361153 |\n",
       "| NL321 |  188541.32 |  190762.68 |   379304 |\n",
       "| NL323 |   99110.65 |  100278.35 |   199389 |\n",
       "| NL324 |  114691.36 |  116042.64 |   230734 |\n",
       "| NL325 |   86109.74 |   87124.26 |   173234 |\n",
       "| NL327 |  128795.78 |  130313.22 |   259109 |\n",
       "| NL328 |  124505.05 |  125971.95 |   250477 |\n",
       "| NL329 |  694031.03 |  702207.97 |  1396239 |\n",
       "| NL332 |  441331.66 |  446531.34 |   887863 |\n",
       "| NL333 |  116502.20 |  117874.80 |   234377 |\n",
       "| NL337 |  214533.70 |  217061.30 |   431595 |\n",
       "| NL33A |  185410.27 |  187594.73 |   373005 |\n",
       "| NL33B |  167909.86 |  169888.14 |   337798 |\n",
       "| NL33C |  726426.69 |  734985.31 |  1461412 |\n",
       "| NL341 |   52293.94 |   52910.06 |   105204 |\n",
       "| NL342 |  139277.53 |  140918.47 |   280196 |\n",
       "| NL411 |  316650.15 |  320380.85 |   637031 |\n",
       "| NL412 |  245058.39 |  247945.61 |   493004 |\n",
       "| NL413 |  327830.78 |  331693.22 |   659524 |\n",
       "| NL414 |  389898.15 |  394491.85 |   784390 |\n",
       "| NL421 |  140845.29 |  142504.71 |   283350 |\n",
       "| NL422 |  118436.30 |  119831.70 |   238268 |\n",
       "| NL423 |  295386.91 |  298867.09 |   594254 |\n",
       "| Sum | 8686536.00 | 8788879.00 | 17475415 |\n",
       "\n"
      ],
      "text/plain": [
       "      males      females    Sum     \n",
       "NL111   67521.74   68317.26   135839\n",
       "NL112   22660.01   22926.99    45587\n",
       "NL113  201568.08  203942.92   405511\n",
       "NL124  159839.40  161722.60   321562\n",
       "NL125   70473.35   71303.65   141777\n",
       "NL126   93497.22   94598.78   188096\n",
       "NL131   95839.42   96968.58   192808\n",
       "NL132   83477.74   84461.26   167939\n",
       "NL133   66619.55   67404.45   134024\n",
       "NL211  187541.21  189750.79   377292\n",
       "NL212   78292.79   79215.21   157508\n",
       "NL213  314016.66  317716.34   631733\n",
       "NL221  348434.91  352540.09   700975\n",
       "NL224  123608.83  125065.17   248674\n",
       "NL225  199941.66  202297.34   402239\n",
       "NL226  370176.83  374538.17   744715\n",
       "NL230  212859.07  215366.93   428226\n",
       "NL310  676590.77  684562.23  1361153\n",
       "NL321  188541.32  190762.68   379304\n",
       "NL323   99110.65  100278.35   199389\n",
       "NL324  114691.36  116042.64   230734\n",
       "NL325   86109.74   87124.26   173234\n",
       "NL327  128795.78  130313.22   259109\n",
       "NL328  124505.05  125971.95   250477\n",
       "NL329  694031.03  702207.97  1396239\n",
       "NL332  441331.66  446531.34   887863\n",
       "NL333  116502.20  117874.80   234377\n",
       "NL337  214533.70  217061.30   431595\n",
       "NL33A  185410.27  187594.73   373005\n",
       "NL33B  167909.86  169888.14   337798\n",
       "NL33C  726426.69  734985.31  1461412\n",
       "NL341   52293.94   52910.06   105204\n",
       "NL342  139277.53  140918.47   280196\n",
       "NL411  316650.15  320380.85   637031\n",
       "NL412  245058.39  247945.61   493004\n",
       "NL413  327830.78  331693.22   659524\n",
       "NL414  389898.15  394491.85   784390\n",
       "NL421  140845.29  142504.71   283350\n",
       "NL422  118436.30  119831.70   238268\n",
       "NL423  295386.91  298867.09   594254\n",
       "Sum   8686536.00 8788879.00 17475415"
      ]
     },
     "metadata": {},
     "output_type": "display_data"
    }
   ],
   "source": [
    "addmargins(out$expected)"
   ]
  },
  {
   "cell_type": "markdown",
   "id": "23ddfe2f-032e-4dec-b764-5e64f7c3f5e9",
   "metadata": {},
   "source": [
    "Tabulka očekávaných hodnot má ve sloupci sum stejné hodnoty jako původní kontingenční tabulka, což se shoduje s výsledky našeho předchozího testu."
   ]
  },
  {
   "cell_type": "code",
   "execution_count": null,
   "id": "44fcbe47-51bb-431f-b282-5c8d457201ba",
   "metadata": {},
   "outputs": [],
   "source": []
  }
 ],
 "metadata": {
  "kernelspec": {
   "display_name": "R",
   "language": "R",
   "name": "ir"
  },
  "language_info": {
   "codemirror_mode": "r",
   "file_extension": ".r",
   "mimetype": "text/x-r-source",
   "name": "R",
   "pygments_lexer": "r",
   "version": "4.1.2"
  }
 },
 "nbformat": 4,
 "nbformat_minor": 5
}
